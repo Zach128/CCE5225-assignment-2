{
 "cells": [
  {
   "cell_type": "markdown",
   "metadata": {},
   "source": [
    "# Assignment - Probabilistic Graphical Models\n",
    "### Year 2020-2021- Semester I\n",
    "### CCE5225\n",
    "####  Developed by - Adrian Muscat, 2020\n",
    "---\n",
    "Zachary Cauchi, 197999M, BSc CS, Yr I\n",
    "\n",
    "Submit a pdf version (with the attached plagiarism form) of the final jupyter notebook (as a turn-it-in job on VLE) and the jupyter notebook itself separately (as an assignment job on VLE)\n",
    "\n",
    "This assignment is to be attempted individually. It is essential that the work you submit and present consists only of your own work; use of copied material will be treated as plagiarism. Discussion is only permitted on general issues, and it is absolutely forbidden to discuss specific details with anyone and/or share results.\n",
    "\n"
   ]
  },
  {
   "cell_type": "markdown",
   "metadata": {},
   "source": []
  },
  {
   "cell_type": "code",
   "execution_count": 1,
   "metadata": {},
   "outputs": [],
   "source": [
    "import numpy as np\n",
    "import pickle\n",
    "\n",
    "from skmultilearn.problem_transform import BinaryRelevance\n",
    "from sklearn.model_selection import GridSearchCV\n",
    "from sklearn.preprocessing import LabelEncoder, OneHotEncoder, MultiLabelBinarizer\n",
    "from sklearn.feature_extraction.text import CountVectorizer, TfidfVectorizer\n",
    "from sklearn.linear_model import LogisticRegression\n",
    "from sklearn.utils.multiclass import unique_labels\n",
    "from sklearn.linear_model import LogisticRegressionCV\n",
    "from sklearn.metrics import classification_report, multilabel_confusion_matrix\n",
    "\n",
    "import pandas\n",
    "from collections import Counter\n",
    "\n",
    "import re\n",
    "\n",
    "def saveAnswer(obj, name):\n",
    "    answer_file = open(f'saved_answers/{name}.pkl', 'wb')\n",
    "    pickle.dump(obj, answer_file)\n",
    "    answer_file.close()\n",
    "\n",
    "def trimSubClasses(labels):\n",
    "    pattern = re.compile(r'.+?(?=_\\d+(?!.))')\n",
    "    labels = [[label if not pattern.match(label) else pattern.match(label).group(0) for label in row] for row in labels]\n",
    "    return labels"
   ]
  },
  {
   "cell_type": "code",
   "execution_count": 2,
   "metadata": {},
   "outputs": [],
   "source": [
    "infile = open('MLC_data_2020_21.pkl','rb')\n",
    "data = pickle.load(infile, encoding='latin1')\n",
    "infile.close()"
   ]
  },
  {
   "cell_type": "code",
   "execution_count": 3,
   "metadata": {},
   "outputs": [
    {
     "output_type": "stream",
     "name": "stdout",
     "text": [
      "First split is into : dict_keys(['development', 'test']) \n\nThe three lists are dict_keys(['object_labels', 'output_labels', 'geometric_features']) \n\nThere are 4253 examples in dev set\n\nFirst example:\n['2008_001130.jpg', 'tvmonitor', 'bottle']\n['next_to', 'at_the_level_of', 'near']\n[ 0.68888274  0.07051991  0.          0.88679245  0.39215686  0.63316053\n  0.109375    1.36170213  1.14893617  1.06603774  0.58490566  9.76862745\n  0.5546875  -0.30530973]\n\nSecond example:\n['2008_002210.jpg', 'person', 'diningtable']\n['behind', 'opposite', 'near']\n[ 0.43984962  0.28696742  0.16        0.40206186  2.36082474  0.48306117\n  0.          2.27350427  0.31623932  1.          0.66666667  1.53275109\n  0.34962406 -0.33333333]\n\n...\n"
     ]
    }
   ],
   "source": [
    "# Explore dataset\n",
    "print(\"First split is into :\",data.keys(),'\\n')\n",
    "#\n",
    "# Lets explore the development set\n",
    "# This is organised into three lists\n",
    "print(\"The three lists are\",data['development'].keys(),'\\n')\n",
    "#\n",
    "# The first element of each list corresponds to the object_labels, \n",
    "# geomteric features and output labels for the first example\n",
    "# ...and so on\n",
    "# When getting the object labels, trim them accordingly to obtain only the 20 classes\n",
    "train_obj_labels = trimSubClasses(data['development']['object_labels'])\n",
    "train_out_labels = data['development']['output_labels']\n",
    "train_geo_feat = data['development']['geometric_features']\n",
    "test_obj_labels = trimSubClasses(data['test']['object_labels'])\n",
    "test_out_labels = data['test']['output_labels']\n",
    "test_geo_feat = data['test']['geometric_features']\n",
    "\n",
    "print(\"There are\",len(train_obj_labels), \"examples in dev set\\n\")\n",
    "print(\"First example:\")\n",
    "print(train_obj_labels[0])\n",
    "print(train_out_labels[0])\n",
    "print(train_geo_feat[0])\n",
    "print(\"\\nSecond example:\")\n",
    "print(train_obj_labels[1])\n",
    "print(train_out_labels[1])\n",
    "print(train_geo_feat[1])\n",
    "print(\"\\n...\")"
   ]
  },
  {
   "cell_type": "code",
   "execution_count": 4,
   "metadata": {},
   "outputs": [
    {
     "output_type": "stream",
     "name": "stdout",
     "text": [
      "Shape of values (9180,) \n\nUnique labels:\n ['above' 'against' 'along' 'around' 'at_the_level_of' 'behind' 'beyond'\n 'far from' 'in' 'in_front_of' 'near' 'next_to' 'none' 'on' 'opposite'\n 'outside_of' 'under'] \n\nExample of One-Hot Encoded:\n [0. 0. 0. 0. 0. 0. 0. 0. 0. 0. 0. 1. 0. 0. 0. 0. 0.] \n\nConsider first example\n\nOutput Labels:\n [['next_to']\n ['at_the_level_of']\n ['near']]\n\nOne-Hot encoded labels:\n[0. 0. 0. 0. 0. 0. 0. 0. 0. 0. 0. 1. 0. 0. 0. 0. 0.]\n[0. 0. 0. 0. 1. 0. 0. 0. 0. 0. 0. 0. 0. 0. 0. 0. 0.]\n[0. 0. 0. 0. 0. 0. 0. 0. 0. 0. 1. 0. 0. 0. 0. 0. 0.]\n"
     ]
    }
   ],
   "source": [
    "# Example \n",
    "# Learning the one-hot encoder\n",
    "\n",
    "# read all prepositions in multilabel examples and flatten\n",
    "all_preps=[]\n",
    "for Y in data['development']['output_labels']:\n",
    "    for y in Y:\n",
    "        all_preps.append(y)\n",
    "\n",
    "values = np.array(all_preps).reshape(len(all_preps),)\n",
    "print(\"Shape of values\", values.shape,'\\n')\n",
    "\n",
    "# integer encode\n",
    "label_encoder = LabelEncoder()\n",
    "integer_encoded = label_encoder.fit_transform(values)\n",
    "print(\"Unique labels:\\n\",label_encoder.classes_,'\\n')\n",
    "\n",
    "# onehot encode\n",
    "onehot_encoder = OneHotEncoder(sparse=False)\n",
    "integer_encoded = integer_encoded.reshape(len(integer_encoded), 1)\n",
    "onehot_encoded = onehot_encoder.fit_transform(integer_encoded)\n",
    "print(\"Example of One-Hot Encoded:\\n\", onehot_encoded[0],'\\n')\n",
    "\n",
    "# single label encoding for first example\n",
    "print(\"Consider first example\\n\")\n",
    "b = np.array(data['development']['output_labels'][0])\n",
    "b = b.reshape(len(b),1)\n",
    "print(\"Output Labels:\\n\",b)\n",
    "print(\"\\nOne-Hot encoded labels:\")\n",
    "for i in b:\n",
    "    a = label_encoder.transform(i)\n",
    "    print(onehot_encoder.transform(a.reshape(-1, 1))[0])\n",
    "\n"
   ]
  },
  {
   "source": [
    "# Section 1: Preparing the data\n",
    "\n",
    "## Part 1"
   ],
   "cell_type": "markdown",
   "metadata": {}
  },
  {
   "cell_type": "code",
   "execution_count": 5,
   "metadata": {},
   "outputs": [
    {
     "output_type": "stream",
     "name": "stdout",
     "text": [
      "Answer to 1.a:\nMean output labels per row (train set):  2.1584763696214435\nMean output labels per row (test set):  2.148496240601504\n"
     ]
    }
   ],
   "source": [
    "# 1.a. Computing the mean output label count per example, per dataset (development and test)\n",
    "average_out_count_train = 0\n",
    "average_out_count_test = 0\n",
    "\n",
    "for row in train_out_labels:\n",
    "    average_out_count_train += len(row)\n",
    "for row in test_out_labels:\n",
    "    average_out_count_test += len(row)\n",
    "\n",
    "average_out_count_train /= len(train_out_labels)\n",
    "average_out_count_test /= len(test_out_labels)\n",
    "\n",
    "print('Answer to 1.a:')\n",
    "print('Mean output labels per row (train set): ', average_out_count_train)\n",
    "print ('Mean output labels per row (test set): ', average_out_count_test)\n",
    "\n",
    "saveAnswer({\n",
    "    'train_average_out': average_out_count_train,\n",
    "    'test_average_out': average_out_count_test\n",
    "}, '1a')\n"
   ]
  },
  {
   "cell_type": "code",
   "execution_count": 6,
   "metadata": {},
   "outputs": [
    {
     "output_type": "stream",
     "name": "stdout",
     "text": [
      "Results for 1.b:\n"
     ]
    },
    {
     "output_type": "display_data",
     "data": {
      "text/plain": "                                                  0\nLabel distribution in development (train) set      \nnext_to                                        1411\nat_the_level_of                                 926\nnear                                           2276\nbehind                                         1055\nopposite                                        267\non                                              359\nin_front_of                                    1102\nabove                                           117\nunder                                           432\nfar from                                        376\nagainst                                         593\noutside_of                                       43\nbeyond                                           42\naround                                           34\nin                                               56\nalong                                            69\nnone                                             22",
      "text/html": "<div>\n<style scoped>\n    .dataframe tbody tr th:only-of-type {\n        vertical-align: middle;\n    }\n\n    .dataframe tbody tr th {\n        vertical-align: top;\n    }\n\n    .dataframe thead th {\n        text-align: right;\n    }\n</style>\n<table border=\"1\" class=\"dataframe\">\n  <thead>\n    <tr style=\"text-align: right;\">\n      <th></th>\n      <th>0</th>\n    </tr>\n    <tr>\n      <th>Label distribution in development (train) set</th>\n      <th></th>\n    </tr>\n  </thead>\n  <tbody>\n    <tr>\n      <th>next_to</th>\n      <td>1411</td>\n    </tr>\n    <tr>\n      <th>at_the_level_of</th>\n      <td>926</td>\n    </tr>\n    <tr>\n      <th>near</th>\n      <td>2276</td>\n    </tr>\n    <tr>\n      <th>behind</th>\n      <td>1055</td>\n    </tr>\n    <tr>\n      <th>opposite</th>\n      <td>267</td>\n    </tr>\n    <tr>\n      <th>on</th>\n      <td>359</td>\n    </tr>\n    <tr>\n      <th>in_front_of</th>\n      <td>1102</td>\n    </tr>\n    <tr>\n      <th>above</th>\n      <td>117</td>\n    </tr>\n    <tr>\n      <th>under</th>\n      <td>432</td>\n    </tr>\n    <tr>\n      <th>far from</th>\n      <td>376</td>\n    </tr>\n    <tr>\n      <th>against</th>\n      <td>593</td>\n    </tr>\n    <tr>\n      <th>outside_of</th>\n      <td>43</td>\n    </tr>\n    <tr>\n      <th>beyond</th>\n      <td>42</td>\n    </tr>\n    <tr>\n      <th>around</th>\n      <td>34</td>\n    </tr>\n    <tr>\n      <th>in</th>\n      <td>56</td>\n    </tr>\n    <tr>\n      <th>along</th>\n      <td>69</td>\n    </tr>\n    <tr>\n      <th>none</th>\n      <td>22</td>\n    </tr>\n  </tbody>\n</table>\n</div>"
     },
     "metadata": {}
    },
    {
     "output_type": "display_data",
     "data": {
      "text/plain": "                                  0\nLabel distribution in test set     \nin_front_of                     270\nagainst                         136\nnext_to                         359\nat_the_level_of                 227\nnear                            578\nunder                           101\nbehind                          270\nfar from                        100\non                               88\nopposite                         66\nabove                            31\nalong                            16\nbeyond                            5\naround                            8\nin                               18\noutside_of                        8\nnone                              5",
      "text/html": "<div>\n<style scoped>\n    .dataframe tbody tr th:only-of-type {\n        vertical-align: middle;\n    }\n\n    .dataframe tbody tr th {\n        vertical-align: top;\n    }\n\n    .dataframe thead th {\n        text-align: right;\n    }\n</style>\n<table border=\"1\" class=\"dataframe\">\n  <thead>\n    <tr style=\"text-align: right;\">\n      <th></th>\n      <th>0</th>\n    </tr>\n    <tr>\n      <th>Label distribution in test set</th>\n      <th></th>\n    </tr>\n  </thead>\n  <tbody>\n    <tr>\n      <th>in_front_of</th>\n      <td>270</td>\n    </tr>\n    <tr>\n      <th>against</th>\n      <td>136</td>\n    </tr>\n    <tr>\n      <th>next_to</th>\n      <td>359</td>\n    </tr>\n    <tr>\n      <th>at_the_level_of</th>\n      <td>227</td>\n    </tr>\n    <tr>\n      <th>near</th>\n      <td>578</td>\n    </tr>\n    <tr>\n      <th>under</th>\n      <td>101</td>\n    </tr>\n    <tr>\n      <th>behind</th>\n      <td>270</td>\n    </tr>\n    <tr>\n      <th>far from</th>\n      <td>100</td>\n    </tr>\n    <tr>\n      <th>on</th>\n      <td>88</td>\n    </tr>\n    <tr>\n      <th>opposite</th>\n      <td>66</td>\n    </tr>\n    <tr>\n      <th>above</th>\n      <td>31</td>\n    </tr>\n    <tr>\n      <th>along</th>\n      <td>16</td>\n    </tr>\n    <tr>\n      <th>beyond</th>\n      <td>5</td>\n    </tr>\n    <tr>\n      <th>around</th>\n      <td>8</td>\n    </tr>\n    <tr>\n      <th>in</th>\n      <td>18</td>\n    </tr>\n    <tr>\n      <th>outside_of</th>\n      <td>8</td>\n    </tr>\n    <tr>\n      <th>none</th>\n      <td>5</td>\n    </tr>\n  </tbody>\n</table>\n</div>"
     },
     "metadata": {}
    }
   ],
   "source": [
    "# 1.b. Flatten the output labels to a 1-d array, computing the distribution for both datasets\n",
    "\n",
    "# Flatten the labels into a 1D array\n",
    "flat_out_train = np.concatenate(train_out_labels)\n",
    "flat_out_test = np.concatenate(test_out_labels)\n",
    "\n",
    "# Count the numbers of each label\n",
    "train_out_counts = Counter(flat_out_train)\n",
    "test_out_counts = Counter(flat_out_test)\n",
    "\n",
    "# Create dataframes from each counter object above.\n",
    "train_out_counts_df = pandas.DataFrame.from_dict(train_out_counts, orient='index')\n",
    "train_out_counts_df.index.name = 'Label distribution in development (train) set'\n",
    "test_out_counts_df = pandas.DataFrame.from_dict(test_out_counts, orient='index')\n",
    "test_out_counts_df.index.name = 'Label distribution in test set'\n",
    "\n",
    "print(\"Results for 1.b:\")\n",
    "display(train_out_counts_df)\n",
    "display(test_out_counts_df)\n",
    "\n",
    "saveAnswer({\n",
    "    'train_out_counts': train_out_counts_df,\n",
    "    'test_out_counts': test_out_counts_df\n",
    "}, '1b')"
   ]
  },
  {
   "cell_type": "code",
   "execution_count": 7,
   "metadata": {},
   "outputs": [
    {
     "output_type": "stream",
     "name": "stdout",
     "text": [
      "Results for 1.c:\n"
     ]
    },
    {
     "output_type": "display_data",
     "data": {
      "text/plain": "                                                      0\nComposite output label distribution in developm...     \n(next_to, at_the_level_of, near)                    509\n(behind, opposite, near)                              3\n(on,)                                               135\n(in_front_of, near)                                 269\n(near, behind)                                       31\n...                                                 ...\n(opposite, beyond)                                    1\n(in_front_of, opposite, under)                        1\n(outside_of, next_to, at_the_level_of, near)          1\n(in_front_of, next_to, opposite, near)                1\n(against, at_the_level_of)                            1\n\n[317 rows x 1 columns]",
      "text/html": "<div>\n<style scoped>\n    .dataframe tbody tr th:only-of-type {\n        vertical-align: middle;\n    }\n\n    .dataframe tbody tr th {\n        vertical-align: top;\n    }\n\n    .dataframe thead th {\n        text-align: right;\n    }\n</style>\n<table border=\"1\" class=\"dataframe\">\n  <thead>\n    <tr style=\"text-align: right;\">\n      <th></th>\n      <th>0</th>\n    </tr>\n    <tr>\n      <th>Composite output label distribution in development (train) set</th>\n      <th></th>\n    </tr>\n  </thead>\n  <tbody>\n    <tr>\n      <th>(next_to, at_the_level_of, near)</th>\n      <td>509</td>\n    </tr>\n    <tr>\n      <th>(behind, opposite, near)</th>\n      <td>3</td>\n    </tr>\n    <tr>\n      <th>(on,)</th>\n      <td>135</td>\n    </tr>\n    <tr>\n      <th>(in_front_of, near)</th>\n      <td>269</td>\n    </tr>\n    <tr>\n      <th>(near, behind)</th>\n      <td>31</td>\n    </tr>\n    <tr>\n      <th>...</th>\n      <td>...</td>\n    </tr>\n    <tr>\n      <th>(opposite, beyond)</th>\n      <td>1</td>\n    </tr>\n    <tr>\n      <th>(in_front_of, opposite, under)</th>\n      <td>1</td>\n    </tr>\n    <tr>\n      <th>(outside_of, next_to, at_the_level_of, near)</th>\n      <td>1</td>\n    </tr>\n    <tr>\n      <th>(in_front_of, next_to, opposite, near)</th>\n      <td>1</td>\n    </tr>\n    <tr>\n      <th>(against, at_the_level_of)</th>\n      <td>1</td>\n    </tr>\n  </tbody>\n</table>\n<p>317 rows × 1 columns</p>\n</div>"
     },
     "metadata": {}
    },
    {
     "output_type": "display_data",
     "data": {
      "text/plain": "                                                   0\nComposite output label distribution in test set     \n(in_front_of, against)                             7\n(next_to, at_the_level_of, near)                 132\n(under,)                                          53\n(at_the_level_of,)                                 9\n(in_front_of, next_to, at_the_level_of, near)      2\n...                                              ...\n(above, next_to, against, behind, near)            1\n(in, on)                                           1\n(in_front_of, next_to, against)                    1\n(around, against, near)                            1\n(next_to, at_the_level_of, far from)               1\n\n[166 rows x 1 columns]",
      "text/html": "<div>\n<style scoped>\n    .dataframe tbody tr th:only-of-type {\n        vertical-align: middle;\n    }\n\n    .dataframe tbody tr th {\n        vertical-align: top;\n    }\n\n    .dataframe thead th {\n        text-align: right;\n    }\n</style>\n<table border=\"1\" class=\"dataframe\">\n  <thead>\n    <tr style=\"text-align: right;\">\n      <th></th>\n      <th>0</th>\n    </tr>\n    <tr>\n      <th>Composite output label distribution in test set</th>\n      <th></th>\n    </tr>\n  </thead>\n  <tbody>\n    <tr>\n      <th>(in_front_of, against)</th>\n      <td>7</td>\n    </tr>\n    <tr>\n      <th>(next_to, at_the_level_of, near)</th>\n      <td>132</td>\n    </tr>\n    <tr>\n      <th>(under,)</th>\n      <td>53</td>\n    </tr>\n    <tr>\n      <th>(at_the_level_of,)</th>\n      <td>9</td>\n    </tr>\n    <tr>\n      <th>(in_front_of, next_to, at_the_level_of, near)</th>\n      <td>2</td>\n    </tr>\n    <tr>\n      <th>...</th>\n      <td>...</td>\n    </tr>\n    <tr>\n      <th>(above, next_to, against, behind, near)</th>\n      <td>1</td>\n    </tr>\n    <tr>\n      <th>(in, on)</th>\n      <td>1</td>\n    </tr>\n    <tr>\n      <th>(in_front_of, next_to, against)</th>\n      <td>1</td>\n    </tr>\n    <tr>\n      <th>(around, against, near)</th>\n      <td>1</td>\n    </tr>\n    <tr>\n      <th>(next_to, at_the_level_of, far from)</th>\n      <td>1</td>\n    </tr>\n  </tbody>\n</table>\n<p>166 rows × 1 columns</p>\n</div>"
     },
     "metadata": {}
    }
   ],
   "source": [
    "# 1.c. Computing the composite output labels (without flattening like in 1.b) for both datasets.\n",
    "\n",
    "# Same as above, compute the occurances of each composite output label.\n",
    "# Unlike above, we first need to transform each row from an unhashable list to a hashable tuple object.\n",
    "train_cmp_out_counts = Counter(map(tuple, train_out_labels))\n",
    "test_cmp_out_counts = Counter(map(tuple, test_out_labels))\n",
    "\n",
    "train_cmp_out_counts_df = pandas.DataFrame.from_dict(train_cmp_out_counts, orient='index')\n",
    "train_cmp_out_counts_df.index.name = 'Composite output label distribution in development (train) set'\n",
    "test_cmp_out_counts_df = pandas.DataFrame.from_dict(test_cmp_out_counts, orient='index')\n",
    "test_cmp_out_counts_df.index.name = 'Composite output label distribution in test set'\n",
    "\n",
    "print('Results for 1.c:')\n",
    "display(train_cmp_out_counts_df)\n",
    "display(test_cmp_out_counts_df)\n",
    "\n",
    "saveAnswer({\n",
    "    'train_out_counts': train_cmp_out_counts_df,\n",
    "    'test_out_counts': test_cmp_out_counts_df\n",
    "}, '1c')\n"
   ]
  },
  {
   "cell_type": "code",
   "execution_count": 8,
   "metadata": {},
   "outputs": [
    {
     "output_type": "stream",
     "name": "stdout",
     "text": [
      "['above', 'against', 'along', 'around', 'at_the_level_of', 'behind', 'beyond', 'far_from', 'in', 'in_front_of', 'near', 'next_to', 'none', 'on', 'opposite', 'outside_of', 'under']\n",
      "(4253, 17)\n"
     ]
    },
    {
     "output_type": "display_data",
     "data": {
      "text/plain": "                   next_to  at_the_level_of       near     behind    opposite  \\\nnext_to          50.116667         1.250000   0.000000   0.000000    2.250000   \nat_the_level_of   1.250000       263.466667   1.283333   1.583333   32.483333   \nnear              0.000000         1.283333  20.516667   0.000000    4.483333   \nbehind            0.000000         1.583333   0.000000  29.083333    0.000000   \nopposite          2.250000        32.483333   4.483333   0.000000  343.883333   \non               12.950000        27.850000   5.850000   0.583333    8.800000   \nin_front_of       0.583333         0.333333   0.000000   0.000000    0.333333   \nabove             3.916667         0.000000   0.333333   0.000000    8.083333   \nunder             0.250000         4.250000   0.000000   0.000000    0.000000   \nfar_from          5.200000        27.033333   6.333333   0.000000   11.833333   \nagainst          27.116667        20.966667  14.433333   0.000000  244.133333   \noutside_of        8.500000        47.050000  15.516667   0.000000  251.550000   \nbeyond            0.000000         0.000000   0.000000   0.000000    0.000000   \naround            2.083333        95.583333   0.000000   0.000000    0.000000   \nin                1.950000         3.950000   0.000000   0.000000   15.333333   \nalong             0.833333         1.000000   0.000000   0.000000    1.250000   \nnone              0.000000        64.916667   0.250000   2.750000    1.583333   \n\n                         on  in_front_of       above  under    far_from  \\\nnext_to           12.950000     0.583333    3.916667   0.25    5.200000   \nat_the_level_of   27.850000     0.333333    0.000000   4.25   27.033333   \nnear               5.850000     0.000000    0.333333   0.00    6.333333   \nbehind             0.583333     0.000000    0.000000   0.00    0.000000   \nopposite           8.800000     0.333333    8.083333   0.00   11.833333   \non               544.700000     9.333333   74.333333   0.00   24.450000   \nin_front_of        9.333333    16.916667    6.750000   0.00    3.916667   \nabove             74.333333     6.750000  188.333333   0.00   83.166667   \nunder              0.000000     0.000000    0.000000  41.25    0.000000   \nfar_from          24.450000     3.916667   83.166667   0.00  574.233333   \nagainst          246.950000     2.000000    0.500000   0.00  248.150000   \noutside_of        66.250000     0.333333    1.166667   0.00   68.616667   \nbeyond             0.000000     0.000000    0.000000   0.00    0.000000   \naround             0.333333     0.000000    0.000000  10.25    6.000000   \nin                14.616667     1.166667    4.333333   0.00   26.400000   \nalong              4.833333     0.000000    3.083333   0.00    5.500000   \nnone              13.166667     0.333333    2.000000   0.00   11.166667   \n\n                    against  outside_of  beyond      around          in  \\\nnext_to           27.116667    8.500000     0.0    2.083333    1.950000   \nat_the_level_of   20.966667   47.050000     0.0   95.583333    3.950000   \nnear              14.433333   15.516667     0.0    0.000000    0.000000   \nbehind             0.000000    0.000000     0.0    0.000000    0.000000   \nopposite         244.133333  251.550000     0.0    0.000000   15.333333   \non               246.950000   66.250000     0.0    0.333333   14.616667   \nin_front_of        2.000000    0.333333     0.0    0.000000    1.166667   \nabove              0.500000    1.166667     0.0    0.000000    4.333333   \nunder              0.000000    0.000000     0.0   10.250000    0.000000   \nfar_from         248.150000   68.616667     0.0    6.000000   26.400000   \nagainst          963.316667  407.866667     0.0    4.500000   62.483333   \noutside_of       407.866667  518.783333     0.0    0.666667   14.366667   \nbeyond             0.000000    0.000000    22.0    0.000000    0.000000   \naround             4.500000    0.666667     0.0  239.583333    0.000000   \nin                62.483333   14.366667     0.0    0.000000  120.400000   \nalong              6.250000    3.916667     0.0    0.000000    0.333333   \nnone              27.333333    6.416667     0.0    0.000000    1.666667   \n\n                     along        none  \nnext_to           0.833333    0.000000  \nat_the_level_of   1.000000   64.916667  \nnear              0.000000    0.250000  \nbehind            0.000000    2.750000  \nopposite          1.250000    1.583333  \non                4.833333   13.166667  \nin_front_of       0.000000    0.333333  \nabove             3.083333    2.000000  \nunder             0.000000    0.000000  \nfar_from          5.500000   11.166667  \nagainst           6.250000   27.333333  \noutside_of        3.916667    6.416667  \nbeyond            0.000000    0.000000  \naround            0.000000    0.000000  \nin                0.333333    1.666667  \nalong            16.000000    0.000000  \nnone              0.000000  300.416667  ",
      "text/html": "<div>\n<style scoped>\n    .dataframe tbody tr th:only-of-type {\n        vertical-align: middle;\n    }\n\n    .dataframe tbody tr th {\n        vertical-align: top;\n    }\n\n    .dataframe thead th {\n        text-align: right;\n    }\n</style>\n<table border=\"1\" class=\"dataframe\">\n  <thead>\n    <tr style=\"text-align: right;\">\n      <th></th>\n      <th>next_to</th>\n      <th>at_the_level_of</th>\n      <th>near</th>\n      <th>behind</th>\n      <th>opposite</th>\n      <th>on</th>\n      <th>in_front_of</th>\n      <th>above</th>\n      <th>under</th>\n      <th>far_from</th>\n      <th>against</th>\n      <th>outside_of</th>\n      <th>beyond</th>\n      <th>around</th>\n      <th>in</th>\n      <th>along</th>\n      <th>none</th>\n    </tr>\n  </thead>\n  <tbody>\n    <tr>\n      <th>next_to</th>\n      <td>50.116667</td>\n      <td>1.250000</td>\n      <td>0.000000</td>\n      <td>0.000000</td>\n      <td>2.250000</td>\n      <td>12.950000</td>\n      <td>0.583333</td>\n      <td>3.916667</td>\n      <td>0.25</td>\n      <td>5.200000</td>\n      <td>27.116667</td>\n      <td>8.500000</td>\n      <td>0.0</td>\n      <td>2.083333</td>\n      <td>1.950000</td>\n      <td>0.833333</td>\n      <td>0.000000</td>\n    </tr>\n    <tr>\n      <th>at_the_level_of</th>\n      <td>1.250000</td>\n      <td>263.466667</td>\n      <td>1.283333</td>\n      <td>1.583333</td>\n      <td>32.483333</td>\n      <td>27.850000</td>\n      <td>0.333333</td>\n      <td>0.000000</td>\n      <td>4.25</td>\n      <td>27.033333</td>\n      <td>20.966667</td>\n      <td>47.050000</td>\n      <td>0.0</td>\n      <td>95.583333</td>\n      <td>3.950000</td>\n      <td>1.000000</td>\n      <td>64.916667</td>\n    </tr>\n    <tr>\n      <th>near</th>\n      <td>0.000000</td>\n      <td>1.283333</td>\n      <td>20.516667</td>\n      <td>0.000000</td>\n      <td>4.483333</td>\n      <td>5.850000</td>\n      <td>0.000000</td>\n      <td>0.333333</td>\n      <td>0.00</td>\n      <td>6.333333</td>\n      <td>14.433333</td>\n      <td>15.516667</td>\n      <td>0.0</td>\n      <td>0.000000</td>\n      <td>0.000000</td>\n      <td>0.000000</td>\n      <td>0.250000</td>\n    </tr>\n    <tr>\n      <th>behind</th>\n      <td>0.000000</td>\n      <td>1.583333</td>\n      <td>0.000000</td>\n      <td>29.083333</td>\n      <td>0.000000</td>\n      <td>0.583333</td>\n      <td>0.000000</td>\n      <td>0.000000</td>\n      <td>0.00</td>\n      <td>0.000000</td>\n      <td>0.000000</td>\n      <td>0.000000</td>\n      <td>0.0</td>\n      <td>0.000000</td>\n      <td>0.000000</td>\n      <td>0.000000</td>\n      <td>2.750000</td>\n    </tr>\n    <tr>\n      <th>opposite</th>\n      <td>2.250000</td>\n      <td>32.483333</td>\n      <td>4.483333</td>\n      <td>0.000000</td>\n      <td>343.883333</td>\n      <td>8.800000</td>\n      <td>0.333333</td>\n      <td>8.083333</td>\n      <td>0.00</td>\n      <td>11.833333</td>\n      <td>244.133333</td>\n      <td>251.550000</td>\n      <td>0.0</td>\n      <td>0.000000</td>\n      <td>15.333333</td>\n      <td>1.250000</td>\n      <td>1.583333</td>\n    </tr>\n    <tr>\n      <th>on</th>\n      <td>12.950000</td>\n      <td>27.850000</td>\n      <td>5.850000</td>\n      <td>0.583333</td>\n      <td>8.800000</td>\n      <td>544.700000</td>\n      <td>9.333333</td>\n      <td>74.333333</td>\n      <td>0.00</td>\n      <td>24.450000</td>\n      <td>246.950000</td>\n      <td>66.250000</td>\n      <td>0.0</td>\n      <td>0.333333</td>\n      <td>14.616667</td>\n      <td>4.833333</td>\n      <td>13.166667</td>\n    </tr>\n    <tr>\n      <th>in_front_of</th>\n      <td>0.583333</td>\n      <td>0.333333</td>\n      <td>0.000000</td>\n      <td>0.000000</td>\n      <td>0.333333</td>\n      <td>9.333333</td>\n      <td>16.916667</td>\n      <td>6.750000</td>\n      <td>0.00</td>\n      <td>3.916667</td>\n      <td>2.000000</td>\n      <td>0.333333</td>\n      <td>0.0</td>\n      <td>0.000000</td>\n      <td>1.166667</td>\n      <td>0.000000</td>\n      <td>0.333333</td>\n    </tr>\n    <tr>\n      <th>above</th>\n      <td>3.916667</td>\n      <td>0.000000</td>\n      <td>0.333333</td>\n      <td>0.000000</td>\n      <td>8.083333</td>\n      <td>74.333333</td>\n      <td>6.750000</td>\n      <td>188.333333</td>\n      <td>0.00</td>\n      <td>83.166667</td>\n      <td>0.500000</td>\n      <td>1.166667</td>\n      <td>0.0</td>\n      <td>0.000000</td>\n      <td>4.333333</td>\n      <td>3.083333</td>\n      <td>2.000000</td>\n    </tr>\n    <tr>\n      <th>under</th>\n      <td>0.250000</td>\n      <td>4.250000</td>\n      <td>0.000000</td>\n      <td>0.000000</td>\n      <td>0.000000</td>\n      <td>0.000000</td>\n      <td>0.000000</td>\n      <td>0.000000</td>\n      <td>41.25</td>\n      <td>0.000000</td>\n      <td>0.000000</td>\n      <td>0.000000</td>\n      <td>0.0</td>\n      <td>10.250000</td>\n      <td>0.000000</td>\n      <td>0.000000</td>\n      <td>0.000000</td>\n    </tr>\n    <tr>\n      <th>far_from</th>\n      <td>5.200000</td>\n      <td>27.033333</td>\n      <td>6.333333</td>\n      <td>0.000000</td>\n      <td>11.833333</td>\n      <td>24.450000</td>\n      <td>3.916667</td>\n      <td>83.166667</td>\n      <td>0.00</td>\n      <td>574.233333</td>\n      <td>248.150000</td>\n      <td>68.616667</td>\n      <td>0.0</td>\n      <td>6.000000</td>\n      <td>26.400000</td>\n      <td>5.500000</td>\n      <td>11.166667</td>\n    </tr>\n    <tr>\n      <th>against</th>\n      <td>27.116667</td>\n      <td>20.966667</td>\n      <td>14.433333</td>\n      <td>0.000000</td>\n      <td>244.133333</td>\n      <td>246.950000</td>\n      <td>2.000000</td>\n      <td>0.500000</td>\n      <td>0.00</td>\n      <td>248.150000</td>\n      <td>963.316667</td>\n      <td>407.866667</td>\n      <td>0.0</td>\n      <td>4.500000</td>\n      <td>62.483333</td>\n      <td>6.250000</td>\n      <td>27.333333</td>\n    </tr>\n    <tr>\n      <th>outside_of</th>\n      <td>8.500000</td>\n      <td>47.050000</td>\n      <td>15.516667</td>\n      <td>0.000000</td>\n      <td>251.550000</td>\n      <td>66.250000</td>\n      <td>0.333333</td>\n      <td>1.166667</td>\n      <td>0.00</td>\n      <td>68.616667</td>\n      <td>407.866667</td>\n      <td>518.783333</td>\n      <td>0.0</td>\n      <td>0.666667</td>\n      <td>14.366667</td>\n      <td>3.916667</td>\n      <td>6.416667</td>\n    </tr>\n    <tr>\n      <th>beyond</th>\n      <td>0.000000</td>\n      <td>0.000000</td>\n      <td>0.000000</td>\n      <td>0.000000</td>\n      <td>0.000000</td>\n      <td>0.000000</td>\n      <td>0.000000</td>\n      <td>0.000000</td>\n      <td>0.00</td>\n      <td>0.000000</td>\n      <td>0.000000</td>\n      <td>0.000000</td>\n      <td>22.0</td>\n      <td>0.000000</td>\n      <td>0.000000</td>\n      <td>0.000000</td>\n      <td>0.000000</td>\n    </tr>\n    <tr>\n      <th>around</th>\n      <td>2.083333</td>\n      <td>95.583333</td>\n      <td>0.000000</td>\n      <td>0.000000</td>\n      <td>0.000000</td>\n      <td>0.333333</td>\n      <td>0.000000</td>\n      <td>0.000000</td>\n      <td>10.25</td>\n      <td>6.000000</td>\n      <td>4.500000</td>\n      <td>0.666667</td>\n      <td>0.0</td>\n      <td>239.583333</td>\n      <td>0.000000</td>\n      <td>0.000000</td>\n      <td>0.000000</td>\n    </tr>\n    <tr>\n      <th>in</th>\n      <td>1.950000</td>\n      <td>3.950000</td>\n      <td>0.000000</td>\n      <td>0.000000</td>\n      <td>15.333333</td>\n      <td>14.616667</td>\n      <td>1.166667</td>\n      <td>4.333333</td>\n      <td>0.00</td>\n      <td>26.400000</td>\n      <td>62.483333</td>\n      <td>14.366667</td>\n      <td>0.0</td>\n      <td>0.000000</td>\n      <td>120.400000</td>\n      <td>0.333333</td>\n      <td>1.666667</td>\n    </tr>\n    <tr>\n      <th>along</th>\n      <td>0.833333</td>\n      <td>1.000000</td>\n      <td>0.000000</td>\n      <td>0.000000</td>\n      <td>1.250000</td>\n      <td>4.833333</td>\n      <td>0.000000</td>\n      <td>3.083333</td>\n      <td>0.00</td>\n      <td>5.500000</td>\n      <td>6.250000</td>\n      <td>3.916667</td>\n      <td>0.0</td>\n      <td>0.000000</td>\n      <td>0.333333</td>\n      <td>16.000000</td>\n      <td>0.000000</td>\n    </tr>\n    <tr>\n      <th>none</th>\n      <td>0.000000</td>\n      <td>64.916667</td>\n      <td>0.250000</td>\n      <td>2.750000</td>\n      <td>1.583333</td>\n      <td>13.166667</td>\n      <td>0.333333</td>\n      <td>2.000000</td>\n      <td>0.00</td>\n      <td>11.166667</td>\n      <td>27.333333</td>\n      <td>6.416667</td>\n      <td>0.0</td>\n      <td>0.000000</td>\n      <td>1.666667</td>\n      <td>0.000000</td>\n      <td>300.416667</td>\n    </tr>\n  </tbody>\n</table>\n</div>"
     },
     "metadata": {}
    }
   ],
   "source": [
    "# 1.d. Compute a word-word co occurrence probability distribution\n",
    "train_1d_out_labels = [' '.join(label).replace('far from', 'far_from') for label in train_out_labels]\n",
    "\n",
    "corpus = [\n",
    "    'This is the first document.',\n",
    "    'This document is the second document.',\n",
    "    'And this is the third one.',\n",
    "    'Is this the first document?',\n",
    "]\n",
    "\n",
    "vectorizer = TfidfVectorizer(use_idf=False)\n",
    "X = vectorizer.fit_transform(train_1d_out_labels)\n",
    "print(vectorizer.get_feature_names())\n",
    "print(X.shape)\n",
    "Xc = (X.T * X)\n",
    "df = pandas.DataFrame(Xc.todense(), index = vectorizer.vocabulary_, columns=vectorizer.vocabulary_)\n",
    "display(df)\n"
   ]
  },
  {
   "cell_type": "code",
   "execution_count": 9,
   "metadata": {
    "tags": []
   },
   "outputs": [
    {
     "output_type": "display_data",
     "data": {
      "text/plain": "                 at_the_level_of     on  against  under    in  behind   near  \\\nat_the_level_of              5.0    5.0     11.0    4.0   1.0    20.0   82.0   \non                          11.0    1.0     38.0   22.0   6.0    21.0  184.0   \nagainst                     52.0  185.0     11.0  129.0   1.0    49.0   72.0   \nunder                       20.0   11.0     30.0    6.0   5.0    34.0  228.0   \nin                           3.0   11.0     16.0    3.0   0.0     1.0   17.0   \nbehind                      45.0   44.0     99.0   60.0   7.0    35.0  382.0   \nnear                       616.0   13.0     66.0   34.0   4.0   436.0  150.0   \nopposite                    15.0    6.0     21.0   11.0   6.0    24.0  103.0   \nnone                         1.0    1.0      0.0    0.0   1.0     2.0   12.0   \nfar from                    12.0    1.0     13.0   10.0   2.0   110.0   79.0   \nin_front_of                 53.0   34.0    110.0   57.0   7.0    94.0  413.0   \nbeyond                       1.0    0.0      1.0    0.0   0.0    18.0    3.0   \nabove                        5.0    5.0     11.0    3.0   1.0    23.0   36.0   \noutside_of                   1.0    1.0      1.0    0.0   0.0     6.0   15.0   \nalong                       13.0    1.0      3.0    1.0   0.0    12.0    5.0   \naround                       1.0    2.0      3.0    9.0   0.0     1.0   10.0   \nnext_to                     72.0   38.0    159.0   83.0  15.0   169.0  485.0   \n\n                 opposite  none  far from  in_front_of  beyond  above  \\\nat_the_level_of      23.0   1.0      13.0         21.0     0.0    2.0   \non                    0.0   3.0      24.0         31.0     4.0    3.0   \nagainst               4.0   1.0       9.0         39.0     2.0    3.0   \nunder                 7.0   1.0      26.0         49.0     2.0    1.0   \nin                    0.0   0.0       2.0          2.0     1.0    0.0   \nbehind               31.0   3.0      94.0        100.0     5.0   18.0   \nnear                 81.0   1.0      16.0        434.0     7.0   48.0   \nopposite              3.0   1.0      12.0         41.0     2.0    4.0   \nnone                  1.0   0.0       1.0          0.0     1.0    0.0   \nfar from              7.0   1.0       2.0        121.0     1.0    5.0   \nin_front_of          56.0   3.0      82.0         32.0     7.0   10.0   \nbeyond                2.0   0.0       8.0          8.0     0.0    1.0   \nabove                 5.0   0.0       3.0         11.0     0.0    0.0   \noutside_of            0.0   0.0       1.0         11.0     0.0    3.0   \nalong                 0.0   0.0       0.0         15.0     0.0    0.0   \naround                1.0   0.0       2.0          3.0     1.0    0.0   \nnext_to              46.0   7.0      80.0        184.0     9.0   19.0   \n\n                 outside_of  along  around  next_to  \nat_the_level_of         2.0    1.0     0.0    735.0  \non                      1.0    1.0     2.0      7.0  \nagainst                 1.0    1.0     5.0     29.0  \nunder                   0.0    1.0     2.0      9.0  \nin                      0.0    0.0     0.0      0.0  \nbehind                  7.0    1.0     5.0    119.0  \nnear                    5.0   49.0     2.0    314.0  \nopposite                2.0    0.0     1.0     15.0  \nnone                    0.0    1.0     0.0      1.0  \nfar from                5.0    0.0     1.0      6.0  \nin_front_of             7.0    3.0     8.0    126.0  \nbeyond                  0.0    0.0     0.0      0.0  \nabove                   0.0    0.0     1.0     13.0  \noutside_of              0.0    0.0     0.0      4.0  \nalong                   0.0    0.0     0.0     19.0  \naround                  0.0    0.0     0.0      1.0  \nnext_to                13.0   11.0     7.0     13.0  ",
      "text/html": "<div>\n<style scoped>\n    .dataframe tbody tr th:only-of-type {\n        vertical-align: middle;\n    }\n\n    .dataframe tbody tr th {\n        vertical-align: top;\n    }\n\n    .dataframe thead th {\n        text-align: right;\n    }\n</style>\n<table border=\"1\" class=\"dataframe\">\n  <thead>\n    <tr style=\"text-align: right;\">\n      <th></th>\n      <th>at_the_level_of</th>\n      <th>on</th>\n      <th>against</th>\n      <th>under</th>\n      <th>in</th>\n      <th>behind</th>\n      <th>near</th>\n      <th>opposite</th>\n      <th>none</th>\n      <th>far from</th>\n      <th>in_front_of</th>\n      <th>beyond</th>\n      <th>above</th>\n      <th>outside_of</th>\n      <th>along</th>\n      <th>around</th>\n      <th>next_to</th>\n    </tr>\n  </thead>\n  <tbody>\n    <tr>\n      <th>at_the_level_of</th>\n      <td>5.0</td>\n      <td>5.0</td>\n      <td>11.0</td>\n      <td>4.0</td>\n      <td>1.0</td>\n      <td>20.0</td>\n      <td>82.0</td>\n      <td>23.0</td>\n      <td>1.0</td>\n      <td>13.0</td>\n      <td>21.0</td>\n      <td>0.0</td>\n      <td>2.0</td>\n      <td>2.0</td>\n      <td>1.0</td>\n      <td>0.0</td>\n      <td>735.0</td>\n    </tr>\n    <tr>\n      <th>on</th>\n      <td>11.0</td>\n      <td>1.0</td>\n      <td>38.0</td>\n      <td>22.0</td>\n      <td>6.0</td>\n      <td>21.0</td>\n      <td>184.0</td>\n      <td>0.0</td>\n      <td>3.0</td>\n      <td>24.0</td>\n      <td>31.0</td>\n      <td>4.0</td>\n      <td>3.0</td>\n      <td>1.0</td>\n      <td>1.0</td>\n      <td>2.0</td>\n      <td>7.0</td>\n    </tr>\n    <tr>\n      <th>against</th>\n      <td>52.0</td>\n      <td>185.0</td>\n      <td>11.0</td>\n      <td>129.0</td>\n      <td>1.0</td>\n      <td>49.0</td>\n      <td>72.0</td>\n      <td>4.0</td>\n      <td>1.0</td>\n      <td>9.0</td>\n      <td>39.0</td>\n      <td>2.0</td>\n      <td>3.0</td>\n      <td>1.0</td>\n      <td>1.0</td>\n      <td>5.0</td>\n      <td>29.0</td>\n    </tr>\n    <tr>\n      <th>under</th>\n      <td>20.0</td>\n      <td>11.0</td>\n      <td>30.0</td>\n      <td>6.0</td>\n      <td>5.0</td>\n      <td>34.0</td>\n      <td>228.0</td>\n      <td>7.0</td>\n      <td>1.0</td>\n      <td>26.0</td>\n      <td>49.0</td>\n      <td>2.0</td>\n      <td>1.0</td>\n      <td>0.0</td>\n      <td>1.0</td>\n      <td>2.0</td>\n      <td>9.0</td>\n    </tr>\n    <tr>\n      <th>in</th>\n      <td>3.0</td>\n      <td>11.0</td>\n      <td>16.0</td>\n      <td>3.0</td>\n      <td>0.0</td>\n      <td>1.0</td>\n      <td>17.0</td>\n      <td>0.0</td>\n      <td>0.0</td>\n      <td>2.0</td>\n      <td>2.0</td>\n      <td>1.0</td>\n      <td>0.0</td>\n      <td>0.0</td>\n      <td>0.0</td>\n      <td>0.0</td>\n      <td>0.0</td>\n    </tr>\n    <tr>\n      <th>behind</th>\n      <td>45.0</td>\n      <td>44.0</td>\n      <td>99.0</td>\n      <td>60.0</td>\n      <td>7.0</td>\n      <td>35.0</td>\n      <td>382.0</td>\n      <td>31.0</td>\n      <td>3.0</td>\n      <td>94.0</td>\n      <td>100.0</td>\n      <td>5.0</td>\n      <td>18.0</td>\n      <td>7.0</td>\n      <td>1.0</td>\n      <td>5.0</td>\n      <td>119.0</td>\n    </tr>\n    <tr>\n      <th>near</th>\n      <td>616.0</td>\n      <td>13.0</td>\n      <td>66.0</td>\n      <td>34.0</td>\n      <td>4.0</td>\n      <td>436.0</td>\n      <td>150.0</td>\n      <td>81.0</td>\n      <td>1.0</td>\n      <td>16.0</td>\n      <td>434.0</td>\n      <td>7.0</td>\n      <td>48.0</td>\n      <td>5.0</td>\n      <td>49.0</td>\n      <td>2.0</td>\n      <td>314.0</td>\n    </tr>\n    <tr>\n      <th>opposite</th>\n      <td>15.0</td>\n      <td>6.0</td>\n      <td>21.0</td>\n      <td>11.0</td>\n      <td>6.0</td>\n      <td>24.0</td>\n      <td>103.0</td>\n      <td>3.0</td>\n      <td>1.0</td>\n      <td>12.0</td>\n      <td>41.0</td>\n      <td>2.0</td>\n      <td>4.0</td>\n      <td>2.0</td>\n      <td>0.0</td>\n      <td>1.0</td>\n      <td>15.0</td>\n    </tr>\n    <tr>\n      <th>none</th>\n      <td>1.0</td>\n      <td>1.0</td>\n      <td>0.0</td>\n      <td>0.0</td>\n      <td>1.0</td>\n      <td>2.0</td>\n      <td>12.0</td>\n      <td>1.0</td>\n      <td>0.0</td>\n      <td>1.0</td>\n      <td>0.0</td>\n      <td>1.0</td>\n      <td>0.0</td>\n      <td>0.0</td>\n      <td>1.0</td>\n      <td>0.0</td>\n      <td>1.0</td>\n    </tr>\n    <tr>\n      <th>far from</th>\n      <td>12.0</td>\n      <td>1.0</td>\n      <td>13.0</td>\n      <td>10.0</td>\n      <td>2.0</td>\n      <td>110.0</td>\n      <td>79.0</td>\n      <td>7.0</td>\n      <td>1.0</td>\n      <td>2.0</td>\n      <td>121.0</td>\n      <td>1.0</td>\n      <td>5.0</td>\n      <td>5.0</td>\n      <td>0.0</td>\n      <td>1.0</td>\n      <td>6.0</td>\n    </tr>\n    <tr>\n      <th>in_front_of</th>\n      <td>53.0</td>\n      <td>34.0</td>\n      <td>110.0</td>\n      <td>57.0</td>\n      <td>7.0</td>\n      <td>94.0</td>\n      <td>413.0</td>\n      <td>56.0</td>\n      <td>3.0</td>\n      <td>82.0</td>\n      <td>32.0</td>\n      <td>7.0</td>\n      <td>10.0</td>\n      <td>7.0</td>\n      <td>3.0</td>\n      <td>8.0</td>\n      <td>126.0</td>\n    </tr>\n    <tr>\n      <th>beyond</th>\n      <td>1.0</td>\n      <td>0.0</td>\n      <td>1.0</td>\n      <td>0.0</td>\n      <td>0.0</td>\n      <td>18.0</td>\n      <td>3.0</td>\n      <td>2.0</td>\n      <td>0.0</td>\n      <td>8.0</td>\n      <td>8.0</td>\n      <td>0.0</td>\n      <td>1.0</td>\n      <td>0.0</td>\n      <td>0.0</td>\n      <td>0.0</td>\n      <td>0.0</td>\n    </tr>\n    <tr>\n      <th>above</th>\n      <td>5.0</td>\n      <td>5.0</td>\n      <td>11.0</td>\n      <td>3.0</td>\n      <td>1.0</td>\n      <td>23.0</td>\n      <td>36.0</td>\n      <td>5.0</td>\n      <td>0.0</td>\n      <td>3.0</td>\n      <td>11.0</td>\n      <td>0.0</td>\n      <td>0.0</td>\n      <td>0.0</td>\n      <td>0.0</td>\n      <td>1.0</td>\n      <td>13.0</td>\n    </tr>\n    <tr>\n      <th>outside_of</th>\n      <td>1.0</td>\n      <td>1.0</td>\n      <td>1.0</td>\n      <td>0.0</td>\n      <td>0.0</td>\n      <td>6.0</td>\n      <td>15.0</td>\n      <td>0.0</td>\n      <td>0.0</td>\n      <td>1.0</td>\n      <td>11.0</td>\n      <td>0.0</td>\n      <td>3.0</td>\n      <td>0.0</td>\n      <td>0.0</td>\n      <td>0.0</td>\n      <td>4.0</td>\n    </tr>\n    <tr>\n      <th>along</th>\n      <td>13.0</td>\n      <td>1.0</td>\n      <td>3.0</td>\n      <td>1.0</td>\n      <td>0.0</td>\n      <td>12.0</td>\n      <td>5.0</td>\n      <td>0.0</td>\n      <td>0.0</td>\n      <td>0.0</td>\n      <td>15.0</td>\n      <td>0.0</td>\n      <td>0.0</td>\n      <td>0.0</td>\n      <td>0.0</td>\n      <td>0.0</td>\n      <td>19.0</td>\n    </tr>\n    <tr>\n      <th>around</th>\n      <td>1.0</td>\n      <td>2.0</td>\n      <td>3.0</td>\n      <td>9.0</td>\n      <td>0.0</td>\n      <td>1.0</td>\n      <td>10.0</td>\n      <td>1.0</td>\n      <td>0.0</td>\n      <td>2.0</td>\n      <td>3.0</td>\n      <td>1.0</td>\n      <td>0.0</td>\n      <td>0.0</td>\n      <td>0.0</td>\n      <td>0.0</td>\n      <td>1.0</td>\n    </tr>\n    <tr>\n      <th>next_to</th>\n      <td>72.0</td>\n      <td>38.0</td>\n      <td>159.0</td>\n      <td>83.0</td>\n      <td>15.0</td>\n      <td>169.0</td>\n      <td>485.0</td>\n      <td>46.0</td>\n      <td>7.0</td>\n      <td>80.0</td>\n      <td>184.0</td>\n      <td>9.0</td>\n      <td>19.0</td>\n      <td>13.0</td>\n      <td>11.0</td>\n      <td>7.0</td>\n      <td>13.0</td>\n    </tr>\n  </tbody>\n</table>\n</div>"
     },
     "metadata": {}
    }
   ],
   "source": [
    "import numpy as np\n",
    "import nltk\n",
    "from nltk import bigrams\n",
    "import itertools\n",
    "import pandas as pd\n",
    " \n",
    " \n",
    "def generate_co_occurrence_matrix(corpus):\n",
    "    vocab = set(corpus)\n",
    "    vocab = list(vocab)\n",
    "    vocab_index = {word: i for i, word in enumerate(vocab)}\n",
    "\n",
    "    # Create bigrams from all words in corpus\n",
    "    bi_grams = list(bigrams(corpus))\n",
    "\n",
    "    # Frequency distribution of bigrams ((word1, word2), num_occurrences)\n",
    "    bigram_freq = nltk.FreqDist(bi_grams).most_common(len(bi_grams))\n",
    "\n",
    "    # Initialise co-occurrence matrix\n",
    "    # co_occurrence_matrix[current][previous]\n",
    "    co_occurrence_matrix = np.zeros((len(vocab), len(vocab)))\n",
    " \n",
    "    # Loop through the bigrams taking the current and previous word,\n",
    "    # and the number of occurrences of the bigram.\n",
    "    for bigram in bigram_freq:\n",
    "        current = bigram[0][1]\n",
    "        previous = bigram[0][0]\n",
    "        count = bigram[1]\n",
    "        pos_current = vocab_index[current]\n",
    "        pos_previous = vocab_index[previous]\n",
    "        co_occurrence_matrix[pos_current][pos_previous] = count\n",
    "    co_occurrence_matrix = np.matrix(co_occurrence_matrix)\n",
    " \n",
    "    # return the matrix and the index\n",
    "    return co_occurrence_matrix, vocab_index\n",
    "\n",
    "matrix, vocab_index = generate_co_occurrence_matrix(np.concatenate(train_out_labels))\n",
    " \n",
    " \n",
    "data_matrix = pd.DataFrame(matrix, index=vocab_index,\n",
    "                             columns=vocab_index)\n",
    "display(data_matrix)\n",
    "\n",
    "# WIP 1.d"
   ]
  },
  {
   "source": [
    "## Part 2"
   ],
   "cell_type": "markdown",
   "metadata": {}
  },
  {
   "cell_type": "code",
   "execution_count": 10,
   "metadata": {
    "tags": []
   },
   "outputs": [],
   "source": [
    "#2.a Transform the object and geometrical features into an input matrix.\n",
    "\n",
    "# Trim the file names from the inputs.\n",
    "train_trimmed = np.array(train_obj_labels)[:, 1:]\n",
    "test_trimmed = np.array(test_obj_labels)[:, 1:]\n",
    "\n",
    "# Transform the features into one-hot encoded.\n",
    "obj_encoder = OneHotEncoder(sparse=False)\n",
    "obj_encoder = obj_encoder.fit(train_trimmed)\n",
    "train_input_matrix = obj_encoder.transform(train_trimmed)\n",
    "test_input_matrix = obj_encoder.transform(test_trimmed)\n",
    "\n",
    "# Append the geometrical features onto the obtained one-hot features.\n",
    "train_input_matrix = np.append(train_input_matrix, train_geo_feat, axis=1)\n",
    "test_input_matrix = np.append(test_input_matrix, test_geo_feat, axis=1)\n",
    "\n",
    "saveAnswer({\n",
    "    'train_input_matrix': train_input_matrix,\n",
    "    'test_input_matrix': test_input_matrix\n",
    "}, '2.a')\n",
    "\n",
    "XTrain = train_input_matrix\n",
    "XTest = test_input_matrix\n"
   ]
  },
  {
   "cell_type": "code",
   "execution_count": 11,
   "metadata": {},
   "outputs": [],
   "source": [
    "# 2.b Transform the output features into a multi-label output matrix.\n",
    "\n",
    "# Use a multi-label binarizer to one-hot encode and reduce multiple features into a single vector.\n",
    "out_one_hot = MultiLabelBinarizer()\n",
    "out_one_hot = out_one_hot.fit(train_out_labels)\n",
    "\n",
    "train_output_matrix = out_one_hot.transform(train_out_labels)\n",
    "test_output_matrix = out_one_hot.transform(test_out_labels)\n",
    "\n",
    "saveAnswer({\n",
    "    'train_output_matrix': train_output_matrix,\n",
    "    'test_output_matrix': test_output_matrix\n",
    "}, '2.b')\n",
    "\n",
    "yTrain = train_output_matrix\n",
    "yTest = test_output_matrix"
   ]
  },
  {
   "source": [
    "## Part 3\n"
   ],
   "cell_type": "markdown",
   "metadata": {}
  },
  {
   "cell_type": "code",
   "execution_count": 69,
   "metadata": {},
   "outputs": [],
   "source": [
    "# 3 Functions for calculating accuracy metrics\n",
    "\n",
    "def getMatrix(predictions, truths):\n",
    "    # Generate a single confusion matrix for all labels\n",
    "    tp = 0\n",
    "    fp = 1\n",
    "    fn = 2\n",
    "    tn = 3\n",
    "\n",
    "    # Initialise an empty array.\n",
    "    matrix = [0, 0, 0, 0]\n",
    "\n",
    "    # Over each prediction-truth pair, update the confusion matrix for that label.\n",
    "    for (plabel, tlabel) in np.nditer([predictions, truths], flags=['refs_ok']):\n",
    "        if plabel == 1 and tlabel == 1: matrix[tp] += 1\n",
    "        elif plabel == 1 and tlabel == 0: matrix[fp] += 1\n",
    "        elif plabel == 0 and tlabel == 1: matrix[fn] += 1\n",
    "        elif plabel == 0 and tlabel == 0: matrix[tn] += 1\n",
    "\n",
    "    return matrix\n",
    "\n",
    "def getMatrices(predictions, truths, num_labels):\n",
    "    # Generate a multi-label confusion matrix\n",
    "    tp = 0\n",
    "    fp = 1\n",
    "    fn = 2\n",
    "    tn = 3\n",
    "\n",
    "    # Initialise an empty set of arrays.\n",
    "    matrices = [[0, 0, 0, 0] for i in range(0, num_labels)]\n",
    "\n",
    "    it = np.nditer([predictions, truths], flags=['multi_index', 'refs_ok'])\n",
    "\n",
    "    # Over each prediction-truth pair, update the confusion matrix for that label.\n",
    "    for plabel, tlabel in it:\n",
    "        i = it.multi_index[1] # This is the label index\n",
    "        if plabel == 1 and tlabel == 1: matrices[i][tp] += 1\n",
    "        elif plabel == 1 and tlabel == 0: matrices[i][fp] += 1\n",
    "        elif plabel == 0 and tlabel == 1: matrices[i][fn] += 1\n",
    "        elif plabel == 0 and tlabel == 0: matrices[i][tn] += 1\n",
    "\n",
    "    return matrices\n",
    "\n",
    "# 3.a Accuracy (intersection over union)\n",
    "def getAccuracy(predictions, truths):\n",
    "    # Get the overall accuracy\n",
    "    matrix = getMatrix(predictions, truths)\n",
    "    \n",
    "    correct = matrix[0] + matrix[3] # tp + tn\n",
    "    total = sum(matrix) # tp + fp + fn + tn\n",
    "    \n",
    "    return correct / total\n",
    "\n",
    "# 3.b Precision\n",
    "def getPrecision(predictions, truths):\n",
    "    # Get the overall precision\n",
    "    matrix = getMatrix(predictions, truths)\n",
    "\n",
    "    positives = matrix[0] # tp\n",
    "    positiveGuesses = matrix[0] + matrix[1] # tp + fp\n",
    "\n",
    "    return positives / positiveGuesses\n",
    "\n",
    "# 3.c Recall\n",
    "def getRecall(predictions, truths):\n",
    "    # Get the overall recall\n",
    "    matrix = getMatrix(predictions, truths)\n",
    "\n",
    "    positives = matrix[0] # tp\n",
    "    allPositives = matrix[0] + matrix[2] # tp + fn\n",
    "    \n",
    "    return positives / allPositives\n",
    "\n",
    "# 3.d Per-label precision\n",
    "def getMultiLabelPrecision(predictions, truths):\n",
    "    # Get the per-label precision\n",
    "    matrices = getMatrices(predictions, truths, len(truths[0]))\n",
    "\n",
    "    precisions = [0 for i in range(len(matrices))]\n",
    "\n",
    "    for i, (tp, fp, fn, tn) in enumerate(matrices):\n",
    "        p = tp + fp\n",
    "        precisions[i] = (tp / p) if p != 0 else 1.0\n",
    "    \n",
    "    return precisions\n",
    "\n",
    "# 3.e Per-label recall\n",
    "def getMultiLabelRecall(predictions, truths):\n",
    "    # Get the per-label recall\n",
    "    matrices = getMatrices(predictions, truths, len(truths[0]))\n",
    "\n",
    "    recalls = [0 for i in range(len(matrices))]\n",
    "    \n",
    "    for i, (tp, fp, fn, tn) in enumerate(matrices):\n",
    "        allPositives = tp + fn\n",
    "        recalls[i] = (tp / allPositives) if allPositives != 0 else 1.0\n",
    "    \n",
    "    return recalls"
   ]
  },
  {
   "source": [
    "# Section 2\n",
    "\n",
    "## Part 1\n"
   ],
   "cell_type": "markdown",
   "metadata": {}
  },
  {
   "cell_type": "code",
   "execution_count": 83,
   "metadata": {},
   "outputs": [
    {
     "output_type": "stream",
     "name": "stdout",
     "text": [
      "Fitting 5 folds for each of 36 candidates, totalling 180 fits\n",
      "[Parallel(n_jobs=4)]: Using backend LokyBackend with 4 concurrent workers.\n",
      "[Parallel(n_jobs=4)]: Done  33 tasks      | elapsed:  1.0min\n",
      "[Parallel(n_jobs=4)]: Done 154 tasks      | elapsed:  4.8min\n",
      "[Parallel(n_jobs=4)]: Done 180 out of 180 | elapsed:  5.6min finished\n"
     ]
    },
    {
     "output_type": "display_data",
     "data": {
      "text/plain": "{'classifier': LogisticRegression(max_iter=500, random_state=12, solver='sag', warm_start=True),\n 'classifier__C': 1.0,\n 'classifier__class_weight': None,\n 'classifier__max_iter': 500,\n 'classifier__random_state': 12,\n 'classifier__solver': 'sag',\n 'classifier__warm_start': True}"
     },
     "metadata": {}
    },
    {
     "output_type": "display_data",
     "data": {
      "text/plain": "0.0338582981958941"
     },
     "metadata": {}
    },
    {
     "output_type": "stream",
     "name": "stdout",
     "text": [
      "Best estimator achieved an accuracy score of 0.0338582981958941 and trained in 10.91 sec\n"
     ]
    }
   ],
   "source": [
    "# 4.a Develop a binary-relevance model set using logistic regression, first trained through cross-validation and then training the best br model on the whole training set.\n",
    "\n",
    "parameters = [\n",
    "    {\n",
    "        'classifier': [LogisticRegression()],\n",
    "        'classifier__solver': ['sag', 'saga'],\n",
    "        'classifier__C': [1.0, 0.5, 1.5],\n",
    "        'classifier__max_iter': [250, 500, 100],\n",
    "        'classifier__class_weight': [None, 'balanced'],\n",
    "        'classifier__warm_start': [True],\n",
    "        'classifier__random_state': [12]\n",
    "    }\n",
    "]\n",
    "\n",
    "clf = GridSearchCV(BinaryRelevance(), parameters, scoring='accuracy', verbose=2, n_jobs=4)\n",
    "\n",
    "clf.fit(XTrain, yTrain)\n",
    "\n",
    "display(clf.best_params_, clf.best_score_)\n",
    "print(f'Best estimator achieved an accuracy score of {clf.best_score_} and trained in {clf.refit_time_:.2f} sec')\n",
    "\n",
    "predictions = clf.predict(XTest).todense()\n",
    "\n",
    "saveAnswer({\n",
    "    'trained_model': clf,\n",
    "    'predictions': predictions\n",
    "}, '4.a')"
   ]
  },
  {
   "cell_type": "code",
   "execution_count": 84,
   "metadata": {},
   "outputs": [
    {
     "output_type": "stream",
     "name": "stdout",
     "text": [
      "Accuracy: 0.8857253427686864\nPrecision: 0.6102719033232629\nRecall: 0.2650918635170604\n"
     ]
    },
    {
     "output_type": "display_data",
     "data": {
      "text/plain": "                 Precision\nabove             1.000000\nagainst           1.000000\nalong             1.000000\naround            1.000000\nat_the_level_of   1.000000\nbehind            0.681818\nbeyond            1.000000\nfar from          0.625000\nin                1.000000\nin_front_of       0.672131\nnear              0.597605\nnext_to           1.000000\nnone              1.000000\non                1.000000\nopposite          1.000000\noutside_of        1.000000\nunder             1.000000",
      "text/html": "<div>\n<style scoped>\n    .dataframe tbody tr th:only-of-type {\n        vertical-align: middle;\n    }\n\n    .dataframe tbody tr th {\n        vertical-align: top;\n    }\n\n    .dataframe thead th {\n        text-align: right;\n    }\n</style>\n<table border=\"1\" class=\"dataframe\">\n  <thead>\n    <tr style=\"text-align: right;\">\n      <th></th>\n      <th>Precision</th>\n    </tr>\n  </thead>\n  <tbody>\n    <tr>\n      <th>above</th>\n      <td>1.000000</td>\n    </tr>\n    <tr>\n      <th>against</th>\n      <td>1.000000</td>\n    </tr>\n    <tr>\n      <th>along</th>\n      <td>1.000000</td>\n    </tr>\n    <tr>\n      <th>around</th>\n      <td>1.000000</td>\n    </tr>\n    <tr>\n      <th>at_the_level_of</th>\n      <td>1.000000</td>\n    </tr>\n    <tr>\n      <th>behind</th>\n      <td>0.681818</td>\n    </tr>\n    <tr>\n      <th>beyond</th>\n      <td>1.000000</td>\n    </tr>\n    <tr>\n      <th>far from</th>\n      <td>0.625000</td>\n    </tr>\n    <tr>\n      <th>in</th>\n      <td>1.000000</td>\n    </tr>\n    <tr>\n      <th>in_front_of</th>\n      <td>0.672131</td>\n    </tr>\n    <tr>\n      <th>near</th>\n      <td>0.597605</td>\n    </tr>\n    <tr>\n      <th>next_to</th>\n      <td>1.000000</td>\n    </tr>\n    <tr>\n      <th>none</th>\n      <td>1.000000</td>\n    </tr>\n    <tr>\n      <th>on</th>\n      <td>1.000000</td>\n    </tr>\n    <tr>\n      <th>opposite</th>\n      <td>1.000000</td>\n    </tr>\n    <tr>\n      <th>outside_of</th>\n      <td>1.000000</td>\n    </tr>\n    <tr>\n      <th>under</th>\n      <td>1.000000</td>\n    </tr>\n  </tbody>\n</table>\n</div>"
     },
     "metadata": {}
    },
    {
     "output_type": "display_data",
     "data": {
      "text/plain": "                   Recall\nabove            0.000000\nagainst          0.000000\nalong            0.000000\naround           0.000000\nat_the_level_of  0.000000\nbehind           0.222222\nbeyond           0.000000\nfar from         0.050000\nin               0.000000\nin_front_of      0.151852\nnear             0.863322\nnext_to          0.000000\nnone             0.000000\non               0.000000\nopposite         0.000000\noutside_of       0.000000\nunder            0.009901",
      "text/html": "<div>\n<style scoped>\n    .dataframe tbody tr th:only-of-type {\n        vertical-align: middle;\n    }\n\n    .dataframe tbody tr th {\n        vertical-align: top;\n    }\n\n    .dataframe thead th {\n        text-align: right;\n    }\n</style>\n<table border=\"1\" class=\"dataframe\">\n  <thead>\n    <tr style=\"text-align: right;\">\n      <th></th>\n      <th>Recall</th>\n    </tr>\n  </thead>\n  <tbody>\n    <tr>\n      <th>above</th>\n      <td>0.000000</td>\n    </tr>\n    <tr>\n      <th>against</th>\n      <td>0.000000</td>\n    </tr>\n    <tr>\n      <th>along</th>\n      <td>0.000000</td>\n    </tr>\n    <tr>\n      <th>around</th>\n      <td>0.000000</td>\n    </tr>\n    <tr>\n      <th>at_the_level_of</th>\n      <td>0.000000</td>\n    </tr>\n    <tr>\n      <th>behind</th>\n      <td>0.222222</td>\n    </tr>\n    <tr>\n      <th>beyond</th>\n      <td>0.000000</td>\n    </tr>\n    <tr>\n      <th>far from</th>\n      <td>0.050000</td>\n    </tr>\n    <tr>\n      <th>in</th>\n      <td>0.000000</td>\n    </tr>\n    <tr>\n      <th>in_front_of</th>\n      <td>0.151852</td>\n    </tr>\n    <tr>\n      <th>near</th>\n      <td>0.863322</td>\n    </tr>\n    <tr>\n      <th>next_to</th>\n      <td>0.000000</td>\n    </tr>\n    <tr>\n      <th>none</th>\n      <td>0.000000</td>\n    </tr>\n    <tr>\n      <th>on</th>\n      <td>0.000000</td>\n    </tr>\n    <tr>\n      <th>opposite</th>\n      <td>0.000000</td>\n    </tr>\n    <tr>\n      <th>outside_of</th>\n      <td>0.000000</td>\n    </tr>\n    <tr>\n      <th>under</th>\n      <td>0.009901</td>\n    </tr>\n  </tbody>\n</table>\n</div>"
     },
     "metadata": {}
    }
   ],
   "source": [
    "# 4.b Metrics on the trained models from 4.a\n",
    "\n",
    "\n",
    "# Next, compute the metrics accordingly.\n",
    "acc = getAccuracy(predictions, yTest)\n",
    "pre = getPrecision(predictions, yTest)\n",
    "rec = getRecall(predictions, yTest)\n",
    "prePerLabel = getMultiLabelPrecision(predictions, yTest)\n",
    "recPerLabel = getMultiLabelRecall(predictions, yTest)\n",
    "\n",
    "# In the case of the multi-label metrics, convert them into dataframes for readability.\n",
    "prePerLabel = pd.DataFrame(prePerLabel, index=out_one_hot.classes_, columns=['Precision'])\n",
    "recPerLabel = pd.DataFrame(recPerLabel, index=out_one_hot.classes_, columns=['Recall'])\n",
    "\n",
    "print(f'Accuracy: {acc}')\n",
    "print(f'Precision: {pre}')\n",
    "print(f'Recall: {rec}')\n",
    "display(prePerLabel)\n",
    "display(recPerLabel)\n",
    "\n",
    "saveAnswer({\n",
    "    'accuracy': acc,\n",
    "    'precision': pre,\n",
    "    'recall': rec,\n",
    "    'multiPrecision': prePerLabel,\n",
    "    'recPerLabel': recPerLabel\n",
    "}, '4.b')"
   ]
  },
  {
   "cell_type": "code",
   "execution_count": null,
   "metadata": {},
   "outputs": [],
   "source": []
  }
 ],
 "metadata": {
  "kernelspec": {
   "display_name": "Python 3",
   "language": "python",
   "name": "python3"
  },
  "language_info": {
   "codemirror_mode": {
    "name": "ipython",
    "version": 3
   },
   "file_extension": ".py",
   "mimetype": "text/x-python",
   "name": "python",
   "nbconvert_exporter": "python",
   "pygments_lexer": "ipython3",
   "version": "3.8.5-final"
  }
 },
 "nbformat": 4,
 "nbformat_minor": 4
}