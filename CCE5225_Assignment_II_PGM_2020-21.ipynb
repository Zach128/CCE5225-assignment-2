{
 "cells": [
  {
   "cell_type": "markdown",
   "metadata": {},
   "source": [
    "# Assignment - Probabilistic Graphical Models\n",
    "### Year 2020-2021- Semester I\n",
    "### CCE5225\n",
    "####  Developed by - Adrian Muscat, 2020\n",
    "---\n",
    "Zachary Cauchi, 197999M, BSc CS, Yr I\n",
    "\n",
    "Submit a pdf version (with the attached plagiarism form) of the final jupyter notebook (as a turn-it-in job on VLE) and the jupyter notebook itself separately (as an assignment job on VLE)\n",
    "\n",
    "This assignment is to be attempted individually. It is essential that the work you submit and present consists only of your own work; use of copied material will be treated as plagiarism. Discussion is only permitted on general issues, and it is absolutely forbidden to discuss specific details with anyone and/or share results.\n",
    "\n"
   ]
  },
  {
   "cell_type": "markdown",
   "metadata": {},
   "source": []
  },
  {
   "cell_type": "code",
   "execution_count": 1,
   "metadata": {},
   "outputs": [],
   "source": [
    "import numpy as np\n",
    "import pickle\n",
    "\n",
    "from sklearn.preprocessing import LabelEncoder\n",
    "from sklearn.preprocessing import OneHotEncoder\n",
    "from sklearn.feature_extraction.text import CountVectorizer\n",
    "from sklearn.linear_model import LogisticRegression\n",
    "\n",
    "import pandas\n",
    "from collections import Counter\n",
    "\n",
    "def saveAnswer(obj, name):\n",
    "    answer_file = open(f'saved_answers/{name}.pkl', 'wb')\n",
    "    pickle.dump(obj, answer_file)\n",
    "    answer_file.close()"
   ]
  },
  {
   "cell_type": "code",
   "execution_count": 2,
   "metadata": {},
   "outputs": [],
   "source": [
    "infile = open('MLC_data_2020_21.pkl','rb')\n",
    "data = pickle.load(infile, encoding='latin1')\n",
    "infile.close()"
   ]
  },
  {
   "cell_type": "code",
   "execution_count": 3,
   "metadata": {},
   "outputs": [
    {
     "output_type": "stream",
     "name": "stdout",
     "text": [
      "First split is into : dict_keys(['development', 'test']) \n\nThe three lists are dict_keys(['object_labels', 'output_labels', 'geometric_features']) \n\nThere are 4253 examples in dev set\n\nFirst example:\n['2008_001130.jpg', 'tvmonitor', 'bottle']\n['next_to', 'at_the_level_of', 'near']\n[ 0.68888274  0.07051991  0.          0.88679245  0.39215686  0.63316053\n  0.109375    1.36170213  1.14893617  1.06603774  0.58490566  9.76862745\n  0.5546875  -0.30530973]\n\nSecond example:\n['2008_002210.jpg', 'person_2', 'diningtable']\n['behind', 'opposite', 'near']\n[ 0.43984962  0.28696742  0.16        0.40206186  2.36082474  0.48306117\n  0.          2.27350427  0.31623932  1.          0.66666667  1.53275109\n  0.34962406 -0.33333333]\n\n...\n"
     ]
    }
   ],
   "source": [
    "# Explore dataset\n",
    "print(\"First split is into :\",data.keys(),'\\n')\n",
    "#\n",
    "# Lets explore the development set\n",
    "# This is organised into three lists\n",
    "print(\"The three lists are\",data['development'].keys(),'\\n')\n",
    "#\n",
    "# The first element of each list corresponds to the object_labels, \n",
    "# geomteric features and output labels for the first example\n",
    "# ...and so on\n",
    "# Lets explore the first example\n",
    "train_obj_labels = data['development']['object_labels']\n",
    "train_out_labels = data['development']['output_labels']\n",
    "train_geo_feat = data['development']['geometric_features']\n",
    "test_obj_labels = data['test']['object_labels']\n",
    "test_out_labels = data['test']['output_labels']\n",
    "test_geo_feat = data['test']['geometric_features']\n",
    "print(\"There are\",len(train_obj_labels), \"examples in dev set\\n\")\n",
    "print(\"First example:\")\n",
    "print(train_obj_labels[0])\n",
    "print(train_out_labels[0])\n",
    "print(train_geo_feat[0])\n",
    "print(\"\\nSecond example:\")\n",
    "print(train_obj_labels[1])\n",
    "print(train_out_labels[1])\n",
    "print(train_geo_feat[1])\n",
    "print(\"\\n...\")"
   ]
  },
  {
   "cell_type": "code",
   "execution_count": 4,
   "metadata": {},
   "outputs": [
    {
     "output_type": "stream",
     "name": "stdout",
     "text": [
      "Shape of values (9180,) \n\nUnique labels:\n ['above' 'against' 'along' 'around' 'at_the_level_of' 'behind' 'beyond'\n 'far from' 'in' 'in_front_of' 'near' 'next_to' 'none' 'on' 'opposite'\n 'outside_of' 'under'] \n\nExample of One-Hot Encoded:\n [0. 0. 0. 0. 0. 0. 0. 0. 0. 0. 0. 1. 0. 0. 0. 0. 0.] \n\nConsider first example\n\nOutput Labels:\n [['next_to']\n ['at_the_level_of']\n ['near']]\n\nOne-Hot encoded labels:\n[0. 0. 0. 0. 0. 0. 0. 0. 0. 0. 0. 1. 0. 0. 0. 0. 0.]\n[0. 0. 0. 0. 1. 0. 0. 0. 0. 0. 0. 0. 0. 0. 0. 0. 0.]\n[0. 0. 0. 0. 0. 0. 0. 0. 0. 0. 1. 0. 0. 0. 0. 0. 0.]\n"
     ]
    }
   ],
   "source": [
    "# Example \n",
    "# Learning the one-hot encoder\n",
    "\n",
    "# read all prepositions in multilabel examples and flatten\n",
    "all_preps=[]\n",
    "for Y in data['development']['output_labels']:\n",
    "    for y in Y:\n",
    "        all_preps.append(y)\n",
    "\n",
    "values = np.array(all_preps).reshape(len(all_preps),)\n",
    "print(\"Shape of values\", values.shape,'\\n')\n",
    "\n",
    "# integer encode\n",
    "label_encoder = LabelEncoder()\n",
    "integer_encoded = label_encoder.fit_transform(values)\n",
    "print(\"Unique labels:\\n\",label_encoder.classes_,'\\n')\n",
    "\n",
    "# onehot encode\n",
    "onehot_encoder = OneHotEncoder(sparse=False)\n",
    "integer_encoded = integer_encoded.reshape(len(integer_encoded), 1)\n",
    "onehot_encoded = onehot_encoder.fit_transform(integer_encoded)\n",
    "print(\"Example of One-Hot Encoded:\\n\", onehot_encoded[0],'\\n')\n",
    "\n",
    "# single label encoding for first example\n",
    "print(\"Consider first example\\n\")\n",
    "b = np.array(data['development']['output_labels'][0])\n",
    "b = b.reshape(len(b),1)\n",
    "print(\"Output Labels:\\n\",b)\n",
    "print(\"\\nOne-Hot encoded labels:\")\n",
    "for i in b:\n",
    "    a = label_encoder.transform(i)\n",
    "    print(onehot_encoder.transform(a.reshape(-1, 1))[0])\n",
    "\n"
   ]
  },
  {
   "source": [
    "# Section 1: Preparing the data"
   ],
   "cell_type": "markdown",
   "metadata": {}
  },
  {
   "cell_type": "code",
   "execution_count": 5,
   "metadata": {},
   "outputs": [
    {
     "output_type": "stream",
     "name": "stdout",
     "text": [
      "Answer to 1.a:\nMean output labels per row (train set):  2.1584763696214435\nMean output labels per row (test set):  2.148496240601504\n"
     ]
    }
   ],
   "source": [
    "# 1.a. Computing the mean output label count per example, per dataset (development and test)\n",
    "average_out_count_train = 0\n",
    "average_out_count_test = 0\n",
    "\n",
    "for row in train_out_labels:\n",
    "    average_out_count_train += len(row)\n",
    "for row in test_out_labels:\n",
    "    average_out_count_test += len(row)\n",
    "\n",
    "average_out_count_train /= len(train_out_labels)\n",
    "average_out_count_test /= len(test_out_labels)\n",
    "\n",
    "print('Answer to 1.a:')\n",
    "print('Mean output labels per row (train set): ', average_out_count_train)\n",
    "print ('Mean output labels per row (test set): ', average_out_count_test)\n",
    "\n",
    "saveAnswer({\n",
    "    'train_average_out': average_out_count_train,\n",
    "    'test_average_out': average_out_count_test\n",
    "}, '1a')\n"
   ]
  },
  {
   "cell_type": "code",
   "execution_count": 6,
   "metadata": {},
   "outputs": [
    {
     "output_type": "stream",
     "name": "stdout",
     "text": [
      "Results for 1.b:\n"
     ]
    },
    {
     "output_type": "display_data",
     "data": {
      "text/plain": "                                                  0\nLabel distribution in development (train) set      \nnext_to                                        1411\nat_the_level_of                                 926\nnear                                           2276\nbehind                                         1055\nopposite                                        267\non                                              359\nin_front_of                                    1102\nabove                                           117\nunder                                           432\nfar from                                        376\nagainst                                         593\noutside_of                                       43\nbeyond                                           42\naround                                           34\nin                                               56\nalong                                            69\nnone                                             22",
      "text/html": "<div>\n<style scoped>\n    .dataframe tbody tr th:only-of-type {\n        vertical-align: middle;\n    }\n\n    .dataframe tbody tr th {\n        vertical-align: top;\n    }\n\n    .dataframe thead th {\n        text-align: right;\n    }\n</style>\n<table border=\"1\" class=\"dataframe\">\n  <thead>\n    <tr style=\"text-align: right;\">\n      <th></th>\n      <th>0</th>\n    </tr>\n    <tr>\n      <th>Label distribution in development (train) set</th>\n      <th></th>\n    </tr>\n  </thead>\n  <tbody>\n    <tr>\n      <th>next_to</th>\n      <td>1411</td>\n    </tr>\n    <tr>\n      <th>at_the_level_of</th>\n      <td>926</td>\n    </tr>\n    <tr>\n      <th>near</th>\n      <td>2276</td>\n    </tr>\n    <tr>\n      <th>behind</th>\n      <td>1055</td>\n    </tr>\n    <tr>\n      <th>opposite</th>\n      <td>267</td>\n    </tr>\n    <tr>\n      <th>on</th>\n      <td>359</td>\n    </tr>\n    <tr>\n      <th>in_front_of</th>\n      <td>1102</td>\n    </tr>\n    <tr>\n      <th>above</th>\n      <td>117</td>\n    </tr>\n    <tr>\n      <th>under</th>\n      <td>432</td>\n    </tr>\n    <tr>\n      <th>far from</th>\n      <td>376</td>\n    </tr>\n    <tr>\n      <th>against</th>\n      <td>593</td>\n    </tr>\n    <tr>\n      <th>outside_of</th>\n      <td>43</td>\n    </tr>\n    <tr>\n      <th>beyond</th>\n      <td>42</td>\n    </tr>\n    <tr>\n      <th>around</th>\n      <td>34</td>\n    </tr>\n    <tr>\n      <th>in</th>\n      <td>56</td>\n    </tr>\n    <tr>\n      <th>along</th>\n      <td>69</td>\n    </tr>\n    <tr>\n      <th>none</th>\n      <td>22</td>\n    </tr>\n  </tbody>\n</table>\n</div>"
     },
     "metadata": {}
    },
    {
     "output_type": "display_data",
     "data": {
      "text/plain": "                                  0\nLabel distribution in test set     \nin_front_of                     270\nagainst                         136\nnext_to                         359\nat_the_level_of                 227\nnear                            578\nunder                           101\nbehind                          270\nfar from                        100\non                               88\nopposite                         66\nabove                            31\nalong                            16\nbeyond                            5\naround                            8\nin                               18\noutside_of                        8\nnone                              5",
      "text/html": "<div>\n<style scoped>\n    .dataframe tbody tr th:only-of-type {\n        vertical-align: middle;\n    }\n\n    .dataframe tbody tr th {\n        vertical-align: top;\n    }\n\n    .dataframe thead th {\n        text-align: right;\n    }\n</style>\n<table border=\"1\" class=\"dataframe\">\n  <thead>\n    <tr style=\"text-align: right;\">\n      <th></th>\n      <th>0</th>\n    </tr>\n    <tr>\n      <th>Label distribution in test set</th>\n      <th></th>\n    </tr>\n  </thead>\n  <tbody>\n    <tr>\n      <th>in_front_of</th>\n      <td>270</td>\n    </tr>\n    <tr>\n      <th>against</th>\n      <td>136</td>\n    </tr>\n    <tr>\n      <th>next_to</th>\n      <td>359</td>\n    </tr>\n    <tr>\n      <th>at_the_level_of</th>\n      <td>227</td>\n    </tr>\n    <tr>\n      <th>near</th>\n      <td>578</td>\n    </tr>\n    <tr>\n      <th>under</th>\n      <td>101</td>\n    </tr>\n    <tr>\n      <th>behind</th>\n      <td>270</td>\n    </tr>\n    <tr>\n      <th>far from</th>\n      <td>100</td>\n    </tr>\n    <tr>\n      <th>on</th>\n      <td>88</td>\n    </tr>\n    <tr>\n      <th>opposite</th>\n      <td>66</td>\n    </tr>\n    <tr>\n      <th>above</th>\n      <td>31</td>\n    </tr>\n    <tr>\n      <th>along</th>\n      <td>16</td>\n    </tr>\n    <tr>\n      <th>beyond</th>\n      <td>5</td>\n    </tr>\n    <tr>\n      <th>around</th>\n      <td>8</td>\n    </tr>\n    <tr>\n      <th>in</th>\n      <td>18</td>\n    </tr>\n    <tr>\n      <th>outside_of</th>\n      <td>8</td>\n    </tr>\n    <tr>\n      <th>none</th>\n      <td>5</td>\n    </tr>\n  </tbody>\n</table>\n</div>"
     },
     "metadata": {}
    }
   ],
   "source": [
    "# 1.b. Flatten the output labels to a 1-d array, computing the distribution for both datasets\n",
    "\n",
    "# Flatten the labels into a 1D array\n",
    "flat_out_train = np.concatenate(train_out_labels)\n",
    "flat_out_test = np.concatenate(test_out_labels)\n",
    "\n",
    "# Count the numbers of each label\n",
    "train_out_counts = Counter(flat_out_train)\n",
    "test_out_counts = Counter(flat_out_test)\n",
    "\n",
    "# Create dataframes from each counter object above.\n",
    "train_out_counts_df = pandas.DataFrame.from_dict(train_out_counts, orient='index')\n",
    "train_out_counts_df.index.name = 'Label distribution in development (train) set'\n",
    "test_out_counts_df = pandas.DataFrame.from_dict(test_out_counts, orient='index')\n",
    "test_out_counts_df.index.name = 'Label distribution in test set'\n",
    "\n",
    "print(\"Results for 1.b:\")\n",
    "display(train_out_counts_df)\n",
    "display(test_out_counts_df)\n",
    "\n",
    "saveAnswer({\n",
    "    'train_out_counts': train_out_counts_df,\n",
    "    'test_out_counts': test_out_counts_df\n",
    "}, '1b')"
   ]
  },
  {
   "cell_type": "code",
   "execution_count": 7,
   "metadata": {},
   "outputs": [
    {
     "output_type": "stream",
     "name": "stdout",
     "text": [
      "Results for 1.c:\n"
     ]
    },
    {
     "output_type": "display_data",
     "data": {
      "text/plain": "                                                      0\nComposite output label distribution in developm...     \n(next_to, at_the_level_of, near)                    509\n(behind, opposite, near)                              3\n(on,)                                               135\n(in_front_of, near)                                 269\n(near, behind)                                       31\n...                                                 ...\n(opposite, beyond)                                    1\n(in_front_of, opposite, under)                        1\n(outside_of, next_to, at_the_level_of, near)          1\n(in_front_of, next_to, opposite, near)                1\n(against, at_the_level_of)                            1\n\n[317 rows x 1 columns]",
      "text/html": "<div>\n<style scoped>\n    .dataframe tbody tr th:only-of-type {\n        vertical-align: middle;\n    }\n\n    .dataframe tbody tr th {\n        vertical-align: top;\n    }\n\n    .dataframe thead th {\n        text-align: right;\n    }\n</style>\n<table border=\"1\" class=\"dataframe\">\n  <thead>\n    <tr style=\"text-align: right;\">\n      <th></th>\n      <th>0</th>\n    </tr>\n    <tr>\n      <th>Composite output label distribution in development (train) set</th>\n      <th></th>\n    </tr>\n  </thead>\n  <tbody>\n    <tr>\n      <th>(next_to, at_the_level_of, near)</th>\n      <td>509</td>\n    </tr>\n    <tr>\n      <th>(behind, opposite, near)</th>\n      <td>3</td>\n    </tr>\n    <tr>\n      <th>(on,)</th>\n      <td>135</td>\n    </tr>\n    <tr>\n      <th>(in_front_of, near)</th>\n      <td>269</td>\n    </tr>\n    <tr>\n      <th>(near, behind)</th>\n      <td>31</td>\n    </tr>\n    <tr>\n      <th>...</th>\n      <td>...</td>\n    </tr>\n    <tr>\n      <th>(opposite, beyond)</th>\n      <td>1</td>\n    </tr>\n    <tr>\n      <th>(in_front_of, opposite, under)</th>\n      <td>1</td>\n    </tr>\n    <tr>\n      <th>(outside_of, next_to, at_the_level_of, near)</th>\n      <td>1</td>\n    </tr>\n    <tr>\n      <th>(in_front_of, next_to, opposite, near)</th>\n      <td>1</td>\n    </tr>\n    <tr>\n      <th>(against, at_the_level_of)</th>\n      <td>1</td>\n    </tr>\n  </tbody>\n</table>\n<p>317 rows × 1 columns</p>\n</div>"
     },
     "metadata": {}
    },
    {
     "output_type": "display_data",
     "data": {
      "text/plain": "                                                   0\nComposite output label distribution in test set     \n(in_front_of, against)                             7\n(next_to, at_the_level_of, near)                 132\n(under,)                                          53\n(at_the_level_of,)                                 9\n(in_front_of, next_to, at_the_level_of, near)      2\n...                                              ...\n(above, next_to, against, behind, near)            1\n(in, on)                                           1\n(in_front_of, next_to, against)                    1\n(around, against, near)                            1\n(next_to, at_the_level_of, far from)               1\n\n[166 rows x 1 columns]",
      "text/html": "<div>\n<style scoped>\n    .dataframe tbody tr th:only-of-type {\n        vertical-align: middle;\n    }\n\n    .dataframe tbody tr th {\n        vertical-align: top;\n    }\n\n    .dataframe thead th {\n        text-align: right;\n    }\n</style>\n<table border=\"1\" class=\"dataframe\">\n  <thead>\n    <tr style=\"text-align: right;\">\n      <th></th>\n      <th>0</th>\n    </tr>\n    <tr>\n      <th>Composite output label distribution in test set</th>\n      <th></th>\n    </tr>\n  </thead>\n  <tbody>\n    <tr>\n      <th>(in_front_of, against)</th>\n      <td>7</td>\n    </tr>\n    <tr>\n      <th>(next_to, at_the_level_of, near)</th>\n      <td>132</td>\n    </tr>\n    <tr>\n      <th>(under,)</th>\n      <td>53</td>\n    </tr>\n    <tr>\n      <th>(at_the_level_of,)</th>\n      <td>9</td>\n    </tr>\n    <tr>\n      <th>(in_front_of, next_to, at_the_level_of, near)</th>\n      <td>2</td>\n    </tr>\n    <tr>\n      <th>...</th>\n      <td>...</td>\n    </tr>\n    <tr>\n      <th>(above, next_to, against, behind, near)</th>\n      <td>1</td>\n    </tr>\n    <tr>\n      <th>(in, on)</th>\n      <td>1</td>\n    </tr>\n    <tr>\n      <th>(in_front_of, next_to, against)</th>\n      <td>1</td>\n    </tr>\n    <tr>\n      <th>(around, against, near)</th>\n      <td>1</td>\n    </tr>\n    <tr>\n      <th>(next_to, at_the_level_of, far from)</th>\n      <td>1</td>\n    </tr>\n  </tbody>\n</table>\n<p>166 rows × 1 columns</p>\n</div>"
     },
     "metadata": {}
    }
   ],
   "source": [
    "# 1.c. Computing the composite output labels (without flattening like in 1.b) for both datasets.\n",
    "\n",
    "# Same as above, compute the occurances of each composite output label.\n",
    "# Unlike above, we first need to transform each row from an unhashable list to a hashable tuple object.\n",
    "train_cmp_out_counts = Counter(map(tuple, train_out_labels))\n",
    "test_cmp_out_counts = Counter(map(tuple, test_out_labels))\n",
    "\n",
    "train_cmp_out_counts_df = pandas.DataFrame.from_dict(train_cmp_out_counts, orient='index')\n",
    "train_cmp_out_counts_df.index.name = 'Composite output label distribution in development (train) set'\n",
    "test_cmp_out_counts_df = pandas.DataFrame.from_dict(test_cmp_out_counts, orient='index')\n",
    "test_cmp_out_counts_df.index.name = 'Composite output label distribution in test set'\n",
    "\n",
    "print('Results for 1.c:')\n",
    "display(train_cmp_out_counts_df)\n",
    "display(test_cmp_out_counts_df)\n",
    "\n",
    "saveAnswer({\n",
    "    'train_out_counts': train_cmp_out_counts_df,\n",
    "    'test_out_counts': test_cmp_out_counts_df\n",
    "}, '1c')\n"
   ]
  },
  {
   "cell_type": "code",
   "execution_count": 20,
   "metadata": {},
   "outputs": [
    {
     "output_type": "display_data",
     "data": {
      "text/plain": "                 above  against  along  around  at_the_level_of  behind  \\\nabove              117        4      0       0                6      34   \nagainst              4      593      5       5              101      71   \nalong                0        5     69       0               18      21   \naround               0        5      0      34                0       2   \nat_the_level_of      6      101     18       0              926      30   \nbehind              34       71     21       2               30    1055   \nbeyond               2        1      0       0                1      25   \nfar from            10        0      1       0               18     161   \nin                   1       13      0       0                0       0   \nin_front_of         14       67     22       0               40      68   \nnear                67       62     54       0              718     590   \nnext_to             24      136     56       0              752     199   \nnone                 0        0      0       0                0       0   \non                   5      205      0       0                0       1   \nopposite             6       11      0       0               46      38   \noutside_of           2        3      0       0                4      13   \nunder                0      140      1       7                5      38   \n\n                 beyond  far from  in  in_front_of  near  next_to  none   on  \\\nabove                 2        10   1           14    67       24     0    5   \nagainst               1         0  13           67    62      136     0  205   \nalong                 0         1   0           22    54       56     0    0   \naround                0         0   0            0     0        0     0    0   \nat_the_level_of       1        18   0           40   718      752     0    0   \nbehind               25       161   0           68   590      199     0    1   \nbeyond               42        19   0           10     6        1     0    0   \nfar from             19       376   0          176     1        3     0    0   \nin                    0         0  56            0     0        0     0   25   \nin_front_of          10       176   0         1102   601      209     0   18   \nnear                  6         1   0          601  2276     1167     0   13   \nnext_to               1         3   0          209  1167     1411     0    2   \nnone                  0         0   0            0     0        0    22    0   \non                    0         0  25           18    13        2     0  359   \nopposite              3        10   0           72   168       48     0    0   \noutside_of            0        10   0           17    19       13     0    0   \nunder                 1         5   0           29    71       20     0    0   \n\n                 opposite  outside_of  under  \nabove                   6           2      0  \nagainst                11           3    140  \nalong                   0           0      1  \naround                  0           0      7  \nat_the_level_of        46           4      5  \nbehind                 38          13     38  \nbeyond                  3           0      1  \nfar from               10          10      5  \nin                      0           0      0  \nin_front_of            72          17     29  \nnear                  168          19     71  \nnext_to                48          13     20  \nnone                    0           0      0  \non                      0           0      0  \nopposite              267           1      5  \noutside_of              1          43      0  \nunder                   5           0    432  ",
      "text/html": "<div>\n<style scoped>\n    .dataframe tbody tr th:only-of-type {\n        vertical-align: middle;\n    }\n\n    .dataframe tbody tr th {\n        vertical-align: top;\n    }\n\n    .dataframe thead th {\n        text-align: right;\n    }\n</style>\n<table border=\"1\" class=\"dataframe\">\n  <thead>\n    <tr style=\"text-align: right;\">\n      <th></th>\n      <th>above</th>\n      <th>against</th>\n      <th>along</th>\n      <th>around</th>\n      <th>at_the_level_of</th>\n      <th>behind</th>\n      <th>beyond</th>\n      <th>far from</th>\n      <th>in</th>\n      <th>in_front_of</th>\n      <th>near</th>\n      <th>next_to</th>\n      <th>none</th>\n      <th>on</th>\n      <th>opposite</th>\n      <th>outside_of</th>\n      <th>under</th>\n    </tr>\n  </thead>\n  <tbody>\n    <tr>\n      <th>above</th>\n      <td>117</td>\n      <td>4</td>\n      <td>0</td>\n      <td>0</td>\n      <td>6</td>\n      <td>34</td>\n      <td>2</td>\n      <td>10</td>\n      <td>1</td>\n      <td>14</td>\n      <td>67</td>\n      <td>24</td>\n      <td>0</td>\n      <td>5</td>\n      <td>6</td>\n      <td>2</td>\n      <td>0</td>\n    </tr>\n    <tr>\n      <th>against</th>\n      <td>4</td>\n      <td>593</td>\n      <td>5</td>\n      <td>5</td>\n      <td>101</td>\n      <td>71</td>\n      <td>1</td>\n      <td>0</td>\n      <td>13</td>\n      <td>67</td>\n      <td>62</td>\n      <td>136</td>\n      <td>0</td>\n      <td>205</td>\n      <td>11</td>\n      <td>3</td>\n      <td>140</td>\n    </tr>\n    <tr>\n      <th>along</th>\n      <td>0</td>\n      <td>5</td>\n      <td>69</td>\n      <td>0</td>\n      <td>18</td>\n      <td>21</td>\n      <td>0</td>\n      <td>1</td>\n      <td>0</td>\n      <td>22</td>\n      <td>54</td>\n      <td>56</td>\n      <td>0</td>\n      <td>0</td>\n      <td>0</td>\n      <td>0</td>\n      <td>1</td>\n    </tr>\n    <tr>\n      <th>around</th>\n      <td>0</td>\n      <td>5</td>\n      <td>0</td>\n      <td>34</td>\n      <td>0</td>\n      <td>2</td>\n      <td>0</td>\n      <td>0</td>\n      <td>0</td>\n      <td>0</td>\n      <td>0</td>\n      <td>0</td>\n      <td>0</td>\n      <td>0</td>\n      <td>0</td>\n      <td>0</td>\n      <td>7</td>\n    </tr>\n    <tr>\n      <th>at_the_level_of</th>\n      <td>6</td>\n      <td>101</td>\n      <td>18</td>\n      <td>0</td>\n      <td>926</td>\n      <td>30</td>\n      <td>1</td>\n      <td>18</td>\n      <td>0</td>\n      <td>40</td>\n      <td>718</td>\n      <td>752</td>\n      <td>0</td>\n      <td>0</td>\n      <td>46</td>\n      <td>4</td>\n      <td>5</td>\n    </tr>\n    <tr>\n      <th>behind</th>\n      <td>34</td>\n      <td>71</td>\n      <td>21</td>\n      <td>2</td>\n      <td>30</td>\n      <td>1055</td>\n      <td>25</td>\n      <td>161</td>\n      <td>0</td>\n      <td>68</td>\n      <td>590</td>\n      <td>199</td>\n      <td>0</td>\n      <td>1</td>\n      <td>38</td>\n      <td>13</td>\n      <td>38</td>\n    </tr>\n    <tr>\n      <th>beyond</th>\n      <td>2</td>\n      <td>1</td>\n      <td>0</td>\n      <td>0</td>\n      <td>1</td>\n      <td>25</td>\n      <td>42</td>\n      <td>19</td>\n      <td>0</td>\n      <td>10</td>\n      <td>6</td>\n      <td>1</td>\n      <td>0</td>\n      <td>0</td>\n      <td>3</td>\n      <td>0</td>\n      <td>1</td>\n    </tr>\n    <tr>\n      <th>far from</th>\n      <td>10</td>\n      <td>0</td>\n      <td>1</td>\n      <td>0</td>\n      <td>18</td>\n      <td>161</td>\n      <td>19</td>\n      <td>376</td>\n      <td>0</td>\n      <td>176</td>\n      <td>1</td>\n      <td>3</td>\n      <td>0</td>\n      <td>0</td>\n      <td>10</td>\n      <td>10</td>\n      <td>5</td>\n    </tr>\n    <tr>\n      <th>in</th>\n      <td>1</td>\n      <td>13</td>\n      <td>0</td>\n      <td>0</td>\n      <td>0</td>\n      <td>0</td>\n      <td>0</td>\n      <td>0</td>\n      <td>56</td>\n      <td>0</td>\n      <td>0</td>\n      <td>0</td>\n      <td>0</td>\n      <td>25</td>\n      <td>0</td>\n      <td>0</td>\n      <td>0</td>\n    </tr>\n    <tr>\n      <th>in_front_of</th>\n      <td>14</td>\n      <td>67</td>\n      <td>22</td>\n      <td>0</td>\n      <td>40</td>\n      <td>68</td>\n      <td>10</td>\n      <td>176</td>\n      <td>0</td>\n      <td>1102</td>\n      <td>601</td>\n      <td>209</td>\n      <td>0</td>\n      <td>18</td>\n      <td>72</td>\n      <td>17</td>\n      <td>29</td>\n    </tr>\n    <tr>\n      <th>near</th>\n      <td>67</td>\n      <td>62</td>\n      <td>54</td>\n      <td>0</td>\n      <td>718</td>\n      <td>590</td>\n      <td>6</td>\n      <td>1</td>\n      <td>0</td>\n      <td>601</td>\n      <td>2276</td>\n      <td>1167</td>\n      <td>0</td>\n      <td>13</td>\n      <td>168</td>\n      <td>19</td>\n      <td>71</td>\n    </tr>\n    <tr>\n      <th>next_to</th>\n      <td>24</td>\n      <td>136</td>\n      <td>56</td>\n      <td>0</td>\n      <td>752</td>\n      <td>199</td>\n      <td>1</td>\n      <td>3</td>\n      <td>0</td>\n      <td>209</td>\n      <td>1167</td>\n      <td>1411</td>\n      <td>0</td>\n      <td>2</td>\n      <td>48</td>\n      <td>13</td>\n      <td>20</td>\n    </tr>\n    <tr>\n      <th>none</th>\n      <td>0</td>\n      <td>0</td>\n      <td>0</td>\n      <td>0</td>\n      <td>0</td>\n      <td>0</td>\n      <td>0</td>\n      <td>0</td>\n      <td>0</td>\n      <td>0</td>\n      <td>0</td>\n      <td>0</td>\n      <td>22</td>\n      <td>0</td>\n      <td>0</td>\n      <td>0</td>\n      <td>0</td>\n    </tr>\n    <tr>\n      <th>on</th>\n      <td>5</td>\n      <td>205</td>\n      <td>0</td>\n      <td>0</td>\n      <td>0</td>\n      <td>1</td>\n      <td>0</td>\n      <td>0</td>\n      <td>25</td>\n      <td>18</td>\n      <td>13</td>\n      <td>2</td>\n      <td>0</td>\n      <td>359</td>\n      <td>0</td>\n      <td>0</td>\n      <td>0</td>\n    </tr>\n    <tr>\n      <th>opposite</th>\n      <td>6</td>\n      <td>11</td>\n      <td>0</td>\n      <td>0</td>\n      <td>46</td>\n      <td>38</td>\n      <td>3</td>\n      <td>10</td>\n      <td>0</td>\n      <td>72</td>\n      <td>168</td>\n      <td>48</td>\n      <td>0</td>\n      <td>0</td>\n      <td>267</td>\n      <td>1</td>\n      <td>5</td>\n    </tr>\n    <tr>\n      <th>outside_of</th>\n      <td>2</td>\n      <td>3</td>\n      <td>0</td>\n      <td>0</td>\n      <td>4</td>\n      <td>13</td>\n      <td>0</td>\n      <td>10</td>\n      <td>0</td>\n      <td>17</td>\n      <td>19</td>\n      <td>13</td>\n      <td>0</td>\n      <td>0</td>\n      <td>1</td>\n      <td>43</td>\n      <td>0</td>\n    </tr>\n    <tr>\n      <th>under</th>\n      <td>0</td>\n      <td>140</td>\n      <td>1</td>\n      <td>7</td>\n      <td>5</td>\n      <td>38</td>\n      <td>1</td>\n      <td>5</td>\n      <td>0</td>\n      <td>29</td>\n      <td>71</td>\n      <td>20</td>\n      <td>0</td>\n      <td>0</td>\n      <td>5</td>\n      <td>0</td>\n      <td>432</td>\n    </tr>\n  </tbody>\n</table>\n</div>"
     },
     "metadata": {}
    }
   ],
   "source": [
    "# 1.d. Compute a word-word co occurrence probability distribution\n",
    "train_1d_out_labels = [' '.join(label) for label in train_out_labels]\n",
    "\n",
    "from sklearn.feature_extraction.text import CountVectorizer\n",
    "\n",
    "count_model = CountVectorizer(ngram_range=(1,2), vocabulary=label_encoder.classes_) # default unigram model\n",
    "X = count_model.fit_transform(train_1d_out_labels)\n",
    "# X[X > 0] = 1 # run this line if you don't want extra within-text cooccurence (see below)\n",
    "Xc = (X.T * X) # this is co-occurrence matrix in sparse csr format\n",
    "df = pandas.DataFrame(Xc.todense(), index = count_model.vocabulary_, columns=count_model.vocabulary_)\n",
    "display(df) # print out matrix in dense format\n"
   ]
  },
  {
   "cell_type": "code",
   "execution_count": 16,
   "metadata": {
    "tags": []
   },
   "outputs": [
    {
     "output_type": "display_data",
     "data": {
      "text/plain": "                 outside_of  none  next_to  at_the_level_of  against     on  \\\noutside_of              0.0   0.0      4.0              1.0      1.0    1.0   \nnone                    0.0   0.0      1.0              1.0      0.0    1.0   \nnext_to                13.0   7.0     13.0             72.0    159.0   38.0   \nat_the_level_of         2.0   1.0    735.0              5.0     11.0    5.0   \nagainst                 1.0   1.0     29.0             52.0     11.0  185.0   \non                      1.0   3.0      7.0             11.0     38.0    1.0   \nabove                   0.0   0.0     13.0              5.0     11.0    5.0   \nbehind                  7.0   3.0    119.0             45.0     99.0   44.0   \nunder                   0.0   1.0      9.0             20.0     30.0   11.0   \nbeyond                  0.0   0.0      0.0              1.0      1.0    0.0   \naround                  0.0   0.0      1.0              1.0      3.0    2.0   \nopposite                2.0   1.0     15.0             15.0     21.0    6.0   \nfar from                5.0   1.0      6.0             12.0     13.0    1.0   \nnear                    5.0   1.0    314.0            616.0     66.0   13.0   \nalong                   0.0   0.0     19.0             13.0      3.0    1.0   \nin_front_of             7.0   3.0    126.0             53.0    110.0   34.0   \nin                      0.0   0.0      0.0              3.0     16.0   11.0   \n\n                 above  behind  under  beyond  around  opposite  far from  \\\noutside_of         3.0     6.0    0.0     0.0     0.0       0.0       1.0   \nnone               0.0     2.0    0.0     1.0     0.0       1.0       1.0   \nnext_to           19.0   169.0   83.0     9.0     7.0      46.0      80.0   \nat_the_level_of    2.0    20.0    4.0     0.0     0.0      23.0      13.0   \nagainst            3.0    49.0  129.0     2.0     5.0       4.0       9.0   \non                 3.0    21.0   22.0     4.0     2.0       0.0      24.0   \nabove              0.0    23.0    3.0     0.0     1.0       5.0       3.0   \nbehind            18.0    35.0   60.0     5.0     5.0      31.0      94.0   \nunder              1.0    34.0    6.0     2.0     2.0       7.0      26.0   \nbeyond             1.0    18.0    0.0     0.0     0.0       2.0       8.0   \naround             0.0     1.0    9.0     1.0     0.0       1.0       2.0   \nopposite           4.0    24.0   11.0     2.0     1.0       3.0      12.0   \nfar from           5.0   110.0   10.0     1.0     1.0       7.0       2.0   \nnear              48.0   436.0   34.0     7.0     2.0      81.0      16.0   \nalong              0.0    12.0    1.0     0.0     0.0       0.0       0.0   \nin_front_of       10.0    94.0   57.0     7.0     8.0      56.0      82.0   \nin                 0.0     1.0    3.0     1.0     0.0       0.0       2.0   \n\n                  near  along  in_front_of    in  \noutside_of        15.0    0.0         11.0   0.0  \nnone              12.0    1.0          0.0   1.0  \nnext_to          485.0   11.0        184.0  15.0  \nat_the_level_of   82.0    1.0         21.0   1.0  \nagainst           72.0    1.0         39.0   1.0  \non               184.0    1.0         31.0   6.0  \nabove             36.0    0.0         11.0   1.0  \nbehind           382.0    1.0        100.0   7.0  \nunder            228.0    1.0         49.0   5.0  \nbeyond             3.0    0.0          8.0   0.0  \naround            10.0    0.0          3.0   0.0  \nopposite         103.0    0.0         41.0   6.0  \nfar from          79.0    0.0        121.0   2.0  \nnear             150.0   49.0        434.0   4.0  \nalong              5.0    0.0         15.0   0.0  \nin_front_of      413.0    3.0         32.0   7.0  \nin                17.0    0.0          2.0   0.0  ",
      "text/html": "<div>\n<style scoped>\n    .dataframe tbody tr th:only-of-type {\n        vertical-align: middle;\n    }\n\n    .dataframe tbody tr th {\n        vertical-align: top;\n    }\n\n    .dataframe thead th {\n        text-align: right;\n    }\n</style>\n<table border=\"1\" class=\"dataframe\">\n  <thead>\n    <tr style=\"text-align: right;\">\n      <th></th>\n      <th>outside_of</th>\n      <th>none</th>\n      <th>next_to</th>\n      <th>at_the_level_of</th>\n      <th>against</th>\n      <th>on</th>\n      <th>above</th>\n      <th>behind</th>\n      <th>under</th>\n      <th>beyond</th>\n      <th>around</th>\n      <th>opposite</th>\n      <th>far from</th>\n      <th>near</th>\n      <th>along</th>\n      <th>in_front_of</th>\n      <th>in</th>\n    </tr>\n  </thead>\n  <tbody>\n    <tr>\n      <th>outside_of</th>\n      <td>0.0</td>\n      <td>0.0</td>\n      <td>4.0</td>\n      <td>1.0</td>\n      <td>1.0</td>\n      <td>1.0</td>\n      <td>3.0</td>\n      <td>6.0</td>\n      <td>0.0</td>\n      <td>0.0</td>\n      <td>0.0</td>\n      <td>0.0</td>\n      <td>1.0</td>\n      <td>15.0</td>\n      <td>0.0</td>\n      <td>11.0</td>\n      <td>0.0</td>\n    </tr>\n    <tr>\n      <th>none</th>\n      <td>0.0</td>\n      <td>0.0</td>\n      <td>1.0</td>\n      <td>1.0</td>\n      <td>0.0</td>\n      <td>1.0</td>\n      <td>0.0</td>\n      <td>2.0</td>\n      <td>0.0</td>\n      <td>1.0</td>\n      <td>0.0</td>\n      <td>1.0</td>\n      <td>1.0</td>\n      <td>12.0</td>\n      <td>1.0</td>\n      <td>0.0</td>\n      <td>1.0</td>\n    </tr>\n    <tr>\n      <th>next_to</th>\n      <td>13.0</td>\n      <td>7.0</td>\n      <td>13.0</td>\n      <td>72.0</td>\n      <td>159.0</td>\n      <td>38.0</td>\n      <td>19.0</td>\n      <td>169.0</td>\n      <td>83.0</td>\n      <td>9.0</td>\n      <td>7.0</td>\n      <td>46.0</td>\n      <td>80.0</td>\n      <td>485.0</td>\n      <td>11.0</td>\n      <td>184.0</td>\n      <td>15.0</td>\n    </tr>\n    <tr>\n      <th>at_the_level_of</th>\n      <td>2.0</td>\n      <td>1.0</td>\n      <td>735.0</td>\n      <td>5.0</td>\n      <td>11.0</td>\n      <td>5.0</td>\n      <td>2.0</td>\n      <td>20.0</td>\n      <td>4.0</td>\n      <td>0.0</td>\n      <td>0.0</td>\n      <td>23.0</td>\n      <td>13.0</td>\n      <td>82.0</td>\n      <td>1.0</td>\n      <td>21.0</td>\n      <td>1.0</td>\n    </tr>\n    <tr>\n      <th>against</th>\n      <td>1.0</td>\n      <td>1.0</td>\n      <td>29.0</td>\n      <td>52.0</td>\n      <td>11.0</td>\n      <td>185.0</td>\n      <td>3.0</td>\n      <td>49.0</td>\n      <td>129.0</td>\n      <td>2.0</td>\n      <td>5.0</td>\n      <td>4.0</td>\n      <td>9.0</td>\n      <td>72.0</td>\n      <td>1.0</td>\n      <td>39.0</td>\n      <td>1.0</td>\n    </tr>\n    <tr>\n      <th>on</th>\n      <td>1.0</td>\n      <td>3.0</td>\n      <td>7.0</td>\n      <td>11.0</td>\n      <td>38.0</td>\n      <td>1.0</td>\n      <td>3.0</td>\n      <td>21.0</td>\n      <td>22.0</td>\n      <td>4.0</td>\n      <td>2.0</td>\n      <td>0.0</td>\n      <td>24.0</td>\n      <td>184.0</td>\n      <td>1.0</td>\n      <td>31.0</td>\n      <td>6.0</td>\n    </tr>\n    <tr>\n      <th>above</th>\n      <td>0.0</td>\n      <td>0.0</td>\n      <td>13.0</td>\n      <td>5.0</td>\n      <td>11.0</td>\n      <td>5.0</td>\n      <td>0.0</td>\n      <td>23.0</td>\n      <td>3.0</td>\n      <td>0.0</td>\n      <td>1.0</td>\n      <td>5.0</td>\n      <td>3.0</td>\n      <td>36.0</td>\n      <td>0.0</td>\n      <td>11.0</td>\n      <td>1.0</td>\n    </tr>\n    <tr>\n      <th>behind</th>\n      <td>7.0</td>\n      <td>3.0</td>\n      <td>119.0</td>\n      <td>45.0</td>\n      <td>99.0</td>\n      <td>44.0</td>\n      <td>18.0</td>\n      <td>35.0</td>\n      <td>60.0</td>\n      <td>5.0</td>\n      <td>5.0</td>\n      <td>31.0</td>\n      <td>94.0</td>\n      <td>382.0</td>\n      <td>1.0</td>\n      <td>100.0</td>\n      <td>7.0</td>\n    </tr>\n    <tr>\n      <th>under</th>\n      <td>0.0</td>\n      <td>1.0</td>\n      <td>9.0</td>\n      <td>20.0</td>\n      <td>30.0</td>\n      <td>11.0</td>\n      <td>1.0</td>\n      <td>34.0</td>\n      <td>6.0</td>\n      <td>2.0</td>\n      <td>2.0</td>\n      <td>7.0</td>\n      <td>26.0</td>\n      <td>228.0</td>\n      <td>1.0</td>\n      <td>49.0</td>\n      <td>5.0</td>\n    </tr>\n    <tr>\n      <th>beyond</th>\n      <td>0.0</td>\n      <td>0.0</td>\n      <td>0.0</td>\n      <td>1.0</td>\n      <td>1.0</td>\n      <td>0.0</td>\n      <td>1.0</td>\n      <td>18.0</td>\n      <td>0.0</td>\n      <td>0.0</td>\n      <td>0.0</td>\n      <td>2.0</td>\n      <td>8.0</td>\n      <td>3.0</td>\n      <td>0.0</td>\n      <td>8.0</td>\n      <td>0.0</td>\n    </tr>\n    <tr>\n      <th>around</th>\n      <td>0.0</td>\n      <td>0.0</td>\n      <td>1.0</td>\n      <td>1.0</td>\n      <td>3.0</td>\n      <td>2.0</td>\n      <td>0.0</td>\n      <td>1.0</td>\n      <td>9.0</td>\n      <td>1.0</td>\n      <td>0.0</td>\n      <td>1.0</td>\n      <td>2.0</td>\n      <td>10.0</td>\n      <td>0.0</td>\n      <td>3.0</td>\n      <td>0.0</td>\n    </tr>\n    <tr>\n      <th>opposite</th>\n      <td>2.0</td>\n      <td>1.0</td>\n      <td>15.0</td>\n      <td>15.0</td>\n      <td>21.0</td>\n      <td>6.0</td>\n      <td>4.0</td>\n      <td>24.0</td>\n      <td>11.0</td>\n      <td>2.0</td>\n      <td>1.0</td>\n      <td>3.0</td>\n      <td>12.0</td>\n      <td>103.0</td>\n      <td>0.0</td>\n      <td>41.0</td>\n      <td>6.0</td>\n    </tr>\n    <tr>\n      <th>far from</th>\n      <td>5.0</td>\n      <td>1.0</td>\n      <td>6.0</td>\n      <td>12.0</td>\n      <td>13.0</td>\n      <td>1.0</td>\n      <td>5.0</td>\n      <td>110.0</td>\n      <td>10.0</td>\n      <td>1.0</td>\n      <td>1.0</td>\n      <td>7.0</td>\n      <td>2.0</td>\n      <td>79.0</td>\n      <td>0.0</td>\n      <td>121.0</td>\n      <td>2.0</td>\n    </tr>\n    <tr>\n      <th>near</th>\n      <td>5.0</td>\n      <td>1.0</td>\n      <td>314.0</td>\n      <td>616.0</td>\n      <td>66.0</td>\n      <td>13.0</td>\n      <td>48.0</td>\n      <td>436.0</td>\n      <td>34.0</td>\n      <td>7.0</td>\n      <td>2.0</td>\n      <td>81.0</td>\n      <td>16.0</td>\n      <td>150.0</td>\n      <td>49.0</td>\n      <td>434.0</td>\n      <td>4.0</td>\n    </tr>\n    <tr>\n      <th>along</th>\n      <td>0.0</td>\n      <td>0.0</td>\n      <td>19.0</td>\n      <td>13.0</td>\n      <td>3.0</td>\n      <td>1.0</td>\n      <td>0.0</td>\n      <td>12.0</td>\n      <td>1.0</td>\n      <td>0.0</td>\n      <td>0.0</td>\n      <td>0.0</td>\n      <td>0.0</td>\n      <td>5.0</td>\n      <td>0.0</td>\n      <td>15.0</td>\n      <td>0.0</td>\n    </tr>\n    <tr>\n      <th>in_front_of</th>\n      <td>7.0</td>\n      <td>3.0</td>\n      <td>126.0</td>\n      <td>53.0</td>\n      <td>110.0</td>\n      <td>34.0</td>\n      <td>10.0</td>\n      <td>94.0</td>\n      <td>57.0</td>\n      <td>7.0</td>\n      <td>8.0</td>\n      <td>56.0</td>\n      <td>82.0</td>\n      <td>413.0</td>\n      <td>3.0</td>\n      <td>32.0</td>\n      <td>7.0</td>\n    </tr>\n    <tr>\n      <th>in</th>\n      <td>0.0</td>\n      <td>0.0</td>\n      <td>0.0</td>\n      <td>3.0</td>\n      <td>16.0</td>\n      <td>11.0</td>\n      <td>0.0</td>\n      <td>1.0</td>\n      <td>3.0</td>\n      <td>1.0</td>\n      <td>0.0</td>\n      <td>0.0</td>\n      <td>2.0</td>\n      <td>17.0</td>\n      <td>0.0</td>\n      <td>2.0</td>\n      <td>0.0</td>\n    </tr>\n  </tbody>\n</table>\n</div>"
     },
     "metadata": {}
    }
   ],
   "source": [
    "import numpy as np\n",
    "import nltk\n",
    "from nltk import bigrams\n",
    "import itertools\n",
    "import pandas as pd\n",
    " \n",
    " \n",
    "def generate_co_occurrence_matrix(corpus):\n",
    "    vocab = set(corpus)\n",
    "    vocab = list(vocab)\n",
    "    vocab_index = {word: i for i, word in enumerate(vocab)}\n",
    "\n",
    "    # Create bigrams from all words in corpus\n",
    "    bi_grams = list(bigrams(corpus))\n",
    "\n",
    "    # Frequency distribution of bigrams ((word1, word2), num_occurrences)\n",
    "    bigram_freq = nltk.FreqDist(bi_grams).most_common(len(bi_grams))\n",
    "\n",
    "    # Initialise co-occurrence matrix\n",
    "    # co_occurrence_matrix[current][previous]\n",
    "    co_occurrence_matrix = np.zeros((len(vocab), len(vocab)))\n",
    " \n",
    "    # Loop through the bigrams taking the current and previous word,\n",
    "    # and the number of occurrences of the bigram.\n",
    "    for bigram in bigram_freq:\n",
    "        current = bigram[0][1]\n",
    "        previous = bigram[0][0]\n",
    "        count = bigram[1]\n",
    "        pos_current = vocab_index[current]\n",
    "        pos_previous = vocab_index[previous]\n",
    "        co_occurrence_matrix[pos_current][pos_previous] = count\n",
    "    co_occurrence_matrix = np.matrix(co_occurrence_matrix)\n",
    " \n",
    "    # return the matrix and the index\n",
    "    return co_occurrence_matrix, vocab_index\n",
    "\n",
    "matrix, vocab_index = generate_co_occurrence_matrix(np.concatenate(train_out_labels))\n",
    " \n",
    " \n",
    "data_matrix = pd.DataFrame(matrix, index=vocab_index,\n",
    "                             columns=vocab_index)\n",
    "display(data_matrix)\n",
    "\n",
    "# WIP 1.d"
   ]
  },
  {
   "cell_type": "code",
   "execution_count": null,
   "metadata": {},
   "outputs": [],
   "source": []
  }
 ],
 "metadata": {
  "kernelspec": {
   "display_name": "Python 3",
   "language": "python",
   "name": "python3"
  },
  "language_info": {
   "codemirror_mode": {
    "name": "ipython",
    "version": 3
   },
   "file_extension": ".py",
   "mimetype": "text/x-python",
   "name": "python",
   "nbconvert_exporter": "python",
   "pygments_lexer": "ipython3",
   "version": "3.8.5-final"
  }
 },
 "nbformat": 4,
 "nbformat_minor": 4
}