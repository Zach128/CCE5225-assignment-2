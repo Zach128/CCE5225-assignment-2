{
 "cells": [
  {
   "cell_type": "markdown",
   "metadata": {},
   "source": [
    "# Assignment - Probabilistic Graphical Models\n",
    "### Year 2020-2021- Semester I\n",
    "### CCE5225\n",
    "####  Developed by - Adrian Muscat, 2020\n",
    "---\n",
    "Zachary Cauchi, 197999M, BSc CS, Yr I\n",
    "\n",
    "Submit a pdf version (with the attached plagiarism form) of the final jupyter notebook (as a turn-it-in job on VLE) and the jupyter notebook itself separately (as an assignment job on VLE)\n",
    "\n",
    "This assignment is to be attempted individually. It is essential that the work you submit and present consists only of your own work; use of copied material will be treated as plagiarism. Discussion is only permitted on general issues, and it is absolutely forbidden to discuss specific details with anyone and/or share results.\n",
    "\n"
   ]
  },
  {
   "cell_type": "markdown",
   "metadata": {},
   "source": []
  },
  {
   "cell_type": "code",
   "execution_count": 53,
   "metadata": {},
   "outputs": [],
   "source": [
    "import numpy as np\n",
    "import pickle\n",
    "\n",
    "from sklearn.preprocessing import LabelEncoder\n",
    "from sklearn.preprocessing import OneHotEncoder\n",
    "\n",
    "from sklearn.linear_model import LogisticRegression\n",
    "\n",
    "import pandas\n",
    "from collections import Counter\n",
    "\n",
    "def saveAnswer(obj, name):\n",
    "    answer_file = open(f'saved_answers/{name}.pkl', 'wb')\n",
    "    pickle.dump(obj, answer_file)\n",
    "    answer_file.close()"
   ]
  },
  {
   "cell_type": "code",
   "execution_count": 17,
   "metadata": {},
   "outputs": [],
   "source": [
    "infile = open('MLC_data_2020_21.pkl','rb')\n",
    "data = pickle.load(infile, encoding='latin1')\n",
    "infile.close()"
   ]
  },
  {
   "cell_type": "code",
   "execution_count": 18,
   "metadata": {},
   "outputs": [
    {
     "output_type": "stream",
     "name": "stdout",
     "text": [
      "First split is into : dict_keys(['development', 'test']) \n\nThe three lists are dict_keys(['object_labels', 'output_labels', 'geometric_features']) \n\nThere are 4253 examples in dev set\n\nFirst example:\n['2008_001130.jpg', 'tvmonitor', 'bottle']\n['next_to', 'at_the_level_of', 'near']\n[ 0.68888274  0.07051991  0.          0.88679245  0.39215686  0.63316053\n  0.109375    1.36170213  1.14893617  1.06603774  0.58490566  9.76862745\n  0.5546875  -0.30530973]\n\nSecond example:\n['2008_002210.jpg', 'person_2', 'diningtable']\n['behind', 'opposite', 'near']\n[ 0.43984962  0.28696742  0.16        0.40206186  2.36082474  0.48306117\n  0.          2.27350427  0.31623932  1.          0.66666667  1.53275109\n  0.34962406 -0.33333333]\n\n...\n"
     ]
    }
   ],
   "source": [
    "# Explore dataset\n",
    "print(\"First split is into :\",data.keys(),'\\n')\n",
    "#\n",
    "# Lets explore the development set\n",
    "# This is organised into three lists\n",
    "print(\"The three lists are\",data['development'].keys(),'\\n')\n",
    "#\n",
    "# The first element of each list corresponds to the object_labels, \n",
    "# geomteric features and output labels for the first example\n",
    "# ...and so on\n",
    "# Lets explore the first example\n",
    "train_obj_labels = data['development']['object_labels']\n",
    "train_out_labels = data['development']['output_labels']\n",
    "train_geo_feat = data['development']['geometric_features']\n",
    "test_obj_labels = data['test']['object_labels']\n",
    "test_out_labels = data['test']['output_labels']\n",
    "test_geo_feat = data['test']['geometric_features']\n",
    "print(\"There are\",len(train_obj_labels), \"examples in dev set\\n\")\n",
    "print(\"First example:\")\n",
    "print(train_obj_labels[0])\n",
    "print(train_out_labels[0])\n",
    "print(train_geo_feat[0])\n",
    "print(\"\\nSecond example:\")\n",
    "print(train_obj_labels[1])\n",
    "print(train_out_labels[1])\n",
    "print(train_geo_feat[1])\n",
    "print(\"\\n...\")"
   ]
  },
  {
   "cell_type": "code",
   "execution_count": 19,
   "metadata": {},
   "outputs": [
    {
     "output_type": "stream",
     "name": "stdout",
     "text": [
      "Shape of values (9180,) \n\nUnique labels:\n ['above' 'against' 'along' 'around' 'at_the_level_of' 'behind' 'beyond'\n 'far from' 'in' 'in_front_of' 'near' 'next_to' 'none' 'on' 'opposite'\n 'outside_of' 'under'] \n\nExample of One-Hot Encoded:\n [0. 0. 0. 0. 0. 0. 0. 0. 0. 0. 0. 1. 0. 0. 0. 0. 0.] \n\nConsider first example\n\nOutput Labels:\n [['next_to']\n ['at_the_level_of']\n ['near']]\n\nOne-Hot encoded labels:\n[0. 0. 0. 0. 0. 0. 0. 0. 0. 0. 0. 1. 0. 0. 0. 0. 0.]\n[0. 0. 0. 0. 1. 0. 0. 0. 0. 0. 0. 0. 0. 0. 0. 0. 0.]\n[0. 0. 0. 0. 0. 0. 0. 0. 0. 0. 1. 0. 0. 0. 0. 0. 0.]\n"
     ]
    }
   ],
   "source": [
    "# Example \n",
    "# Learning the one-hot encoder\n",
    "\n",
    "# read all prepositions in multilabel examples and flatten\n",
    "all_preps=[]\n",
    "for Y in data['development']['output_labels']:\n",
    "    for y in Y:\n",
    "        all_preps.append(y)\n",
    "\n",
    "values = np.array(all_preps).reshape(len(all_preps),)\n",
    "print(\"Shape of values\", values.shape,'\\n')\n",
    "\n",
    "# integer encode\n",
    "label_encoder = LabelEncoder()\n",
    "integer_encoded = label_encoder.fit_transform(values)\n",
    "print(\"Unique labels:\\n\",label_encoder.classes_,'\\n')\n",
    "\n",
    "# onehot encode\n",
    "onehot_encoder = OneHotEncoder(sparse=False)\n",
    "integer_encoded = integer_encoded.reshape(len(integer_encoded), 1)\n",
    "onehot_encoded = onehot_encoder.fit_transform(integer_encoded)\n",
    "print(\"Example of One-Hot Encoded:\\n\", onehot_encoded[0],'\\n')\n",
    "\n",
    "# single label encoding for first example\n",
    "print(\"Consider first example\\n\")\n",
    "b = np.array(data['development']['output_labels'][0])\n",
    "b = b.reshape(len(b),1)\n",
    "print(\"Output Labels:\\n\",b)\n",
    "print(\"\\nOne-Hot encoded labels:\")\n",
    "for i in b:\n",
    "    a = label_encoder.transform(i)\n",
    "    print(onehot_encoder.transform(a.reshape(-1, 1))[0])\n",
    "\n"
   ]
  },
  {
   "source": [
    "# Section 1: Preparing the data"
   ],
   "cell_type": "markdown",
   "metadata": {}
  },
  {
   "cell_type": "code",
   "execution_count": 55,
   "metadata": {},
   "outputs": [
    {
     "output_type": "stream",
     "name": "stdout",
     "text": [
      "Answer to 1.a:\nMean output labels per row (train set):  2.1584763696214435\nMean output labels per row (test set):  2.148496240601504\n"
     ]
    }
   ],
   "source": [
    "# 1.a. Computing the mean output label count per example, per dataset (development and test)\n",
    "average_out_count_train = 0\n",
    "average_out_count_test = 0\n",
    "\n",
    "for row in train_out_labels:\n",
    "    average_out_count_train += len(row)\n",
    "for row in test_out_labels:\n",
    "    average_out_count_test += len(row)\n",
    "\n",
    "average_out_count_train /= len(train_out_labels)\n",
    "average_out_count_test /= len(test_out_labels)\n",
    "\n",
    "print('Answer to 1.a:')\n",
    "print('Mean output labels per row (train set): ', average_out_count_train)\n",
    "print ('Mean output labels per row (test set): ', average_out_count_test)\n",
    "\n",
    "saveAnswer({\n",
    "    'train_average_out': average_out_count_train,\n",
    "    'test_average_out': average_out_count_test\n",
    "}, '1a')\n"
   ]
  },
  {
   "cell_type": "code",
   "execution_count": 56,
   "metadata": {},
   "outputs": [
    {
     "output_type": "stream",
     "name": "stdout",
     "text": [
      "Results for 1.b:\n"
     ]
    },
    {
     "output_type": "display_data",
     "data": {
      "text/plain": "                                                  0\nLabel distribution in development (train) set      \nnext_to                                        1411\nat_the_level_of                                 926\nnear                                           2276\nbehind                                         1055\nopposite                                        267\non                                              359\nin_front_of                                    1102\nabove                                           117\nunder                                           432\nfar from                                        376\nagainst                                         593\noutside_of                                       43\nbeyond                                           42\naround                                           34\nin                                               56\nalong                                            69\nnone                                             22",
      "text/html": "<div>\n<style scoped>\n    .dataframe tbody tr th:only-of-type {\n        vertical-align: middle;\n    }\n\n    .dataframe tbody tr th {\n        vertical-align: top;\n    }\n\n    .dataframe thead th {\n        text-align: right;\n    }\n</style>\n<table border=\"1\" class=\"dataframe\">\n  <thead>\n    <tr style=\"text-align: right;\">\n      <th></th>\n      <th>0</th>\n    </tr>\n    <tr>\n      <th>Label distribution in development (train) set</th>\n      <th></th>\n    </tr>\n  </thead>\n  <tbody>\n    <tr>\n      <th>next_to</th>\n      <td>1411</td>\n    </tr>\n    <tr>\n      <th>at_the_level_of</th>\n      <td>926</td>\n    </tr>\n    <tr>\n      <th>near</th>\n      <td>2276</td>\n    </tr>\n    <tr>\n      <th>behind</th>\n      <td>1055</td>\n    </tr>\n    <tr>\n      <th>opposite</th>\n      <td>267</td>\n    </tr>\n    <tr>\n      <th>on</th>\n      <td>359</td>\n    </tr>\n    <tr>\n      <th>in_front_of</th>\n      <td>1102</td>\n    </tr>\n    <tr>\n      <th>above</th>\n      <td>117</td>\n    </tr>\n    <tr>\n      <th>under</th>\n      <td>432</td>\n    </tr>\n    <tr>\n      <th>far from</th>\n      <td>376</td>\n    </tr>\n    <tr>\n      <th>against</th>\n      <td>593</td>\n    </tr>\n    <tr>\n      <th>outside_of</th>\n      <td>43</td>\n    </tr>\n    <tr>\n      <th>beyond</th>\n      <td>42</td>\n    </tr>\n    <tr>\n      <th>around</th>\n      <td>34</td>\n    </tr>\n    <tr>\n      <th>in</th>\n      <td>56</td>\n    </tr>\n    <tr>\n      <th>along</th>\n      <td>69</td>\n    </tr>\n    <tr>\n      <th>none</th>\n      <td>22</td>\n    </tr>\n  </tbody>\n</table>\n</div>"
     },
     "metadata": {}
    },
    {
     "output_type": "display_data",
     "data": {
      "text/plain": "                                  0\nLabel distribution in test set     \nin_front_of                     270\nagainst                         136\nnext_to                         359\nat_the_level_of                 227\nnear                            578\nunder                           101\nbehind                          270\nfar from                        100\non                               88\nopposite                         66\nabove                            31\nalong                            16\nbeyond                            5\naround                            8\nin                               18\noutside_of                        8\nnone                              5",
      "text/html": "<div>\n<style scoped>\n    .dataframe tbody tr th:only-of-type {\n        vertical-align: middle;\n    }\n\n    .dataframe tbody tr th {\n        vertical-align: top;\n    }\n\n    .dataframe thead th {\n        text-align: right;\n    }\n</style>\n<table border=\"1\" class=\"dataframe\">\n  <thead>\n    <tr style=\"text-align: right;\">\n      <th></th>\n      <th>0</th>\n    </tr>\n    <tr>\n      <th>Label distribution in test set</th>\n      <th></th>\n    </tr>\n  </thead>\n  <tbody>\n    <tr>\n      <th>in_front_of</th>\n      <td>270</td>\n    </tr>\n    <tr>\n      <th>against</th>\n      <td>136</td>\n    </tr>\n    <tr>\n      <th>next_to</th>\n      <td>359</td>\n    </tr>\n    <tr>\n      <th>at_the_level_of</th>\n      <td>227</td>\n    </tr>\n    <tr>\n      <th>near</th>\n      <td>578</td>\n    </tr>\n    <tr>\n      <th>under</th>\n      <td>101</td>\n    </tr>\n    <tr>\n      <th>behind</th>\n      <td>270</td>\n    </tr>\n    <tr>\n      <th>far from</th>\n      <td>100</td>\n    </tr>\n    <tr>\n      <th>on</th>\n      <td>88</td>\n    </tr>\n    <tr>\n      <th>opposite</th>\n      <td>66</td>\n    </tr>\n    <tr>\n      <th>above</th>\n      <td>31</td>\n    </tr>\n    <tr>\n      <th>along</th>\n      <td>16</td>\n    </tr>\n    <tr>\n      <th>beyond</th>\n      <td>5</td>\n    </tr>\n    <tr>\n      <th>around</th>\n      <td>8</td>\n    </tr>\n    <tr>\n      <th>in</th>\n      <td>18</td>\n    </tr>\n    <tr>\n      <th>outside_of</th>\n      <td>8</td>\n    </tr>\n    <tr>\n      <th>none</th>\n      <td>5</td>\n    </tr>\n  </tbody>\n</table>\n</div>"
     },
     "metadata": {}
    }
   ],
   "source": [
    "# 1.b. Flatten the output labels to a 1-d array, computing the distribution for both datasets\n",
    "\n",
    "# Flatten the labels into a 1D array\n",
    "flat_out_train = np.concatenate(train_out_labels)\n",
    "flat_out_test = np.concatenate(test_out_labels)\n",
    "\n",
    "# Count the numbers of each label\n",
    "train_out_counts = Counter(flat_out_train)\n",
    "test_out_counts = Counter(flat_out_test)\n",
    "\n",
    "# Create dataframes from each counter object above.\n",
    "train_out_counts_df = pandas.DataFrame.from_dict(train_out_counts, orient='index')\n",
    "train_out_counts_df.index.name = 'Label distribution in development (train) set'\n",
    "test_out_counts_df = pandas.DataFrame.from_dict(test_out_counts, orient='index')\n",
    "test_out_counts_df.index.name = 'Label distribution in test set'\n",
    "\n",
    "print(\"Results for 1.b:\")\n",
    "display(train_out_counts_df)\n",
    "display(test_out_counts_df)\n",
    "\n",
    "saveAnswer({\n",
    "    'train_out_counts': train_out_counts_df,\n",
    "    'test_out_counts': test_out_counts_df\n",
    "}, '1b')"
   ]
  },
  {
   "cell_type": "code",
   "execution_count": 58,
   "metadata": {},
   "outputs": [
    {
     "output_type": "stream",
     "name": "stdout",
     "text": [
      "Results for 1.c:\n"
     ]
    },
    {
     "output_type": "display_data",
     "data": {
      "text/plain": "                                                      0\nComposite output label distribution in developm...     \n(next_to, at_the_level_of, near)                    509\n(behind, opposite, near)                              3\n(on,)                                               135\n(in_front_of, near)                                 269\n(near, behind)                                       31\n...                                                 ...\n(opposite, beyond)                                    1\n(in_front_of, opposite, under)                        1\n(outside_of, next_to, at_the_level_of, near)          1\n(in_front_of, next_to, opposite, near)                1\n(against, at_the_level_of)                            1\n\n[317 rows x 1 columns]",
      "text/html": "<div>\n<style scoped>\n    .dataframe tbody tr th:only-of-type {\n        vertical-align: middle;\n    }\n\n    .dataframe tbody tr th {\n        vertical-align: top;\n    }\n\n    .dataframe thead th {\n        text-align: right;\n    }\n</style>\n<table border=\"1\" class=\"dataframe\">\n  <thead>\n    <tr style=\"text-align: right;\">\n      <th></th>\n      <th>0</th>\n    </tr>\n    <tr>\n      <th>Composite output label distribution in development (train) set</th>\n      <th></th>\n    </tr>\n  </thead>\n  <tbody>\n    <tr>\n      <th>(next_to, at_the_level_of, near)</th>\n      <td>509</td>\n    </tr>\n    <tr>\n      <th>(behind, opposite, near)</th>\n      <td>3</td>\n    </tr>\n    <tr>\n      <th>(on,)</th>\n      <td>135</td>\n    </tr>\n    <tr>\n      <th>(in_front_of, near)</th>\n      <td>269</td>\n    </tr>\n    <tr>\n      <th>(near, behind)</th>\n      <td>31</td>\n    </tr>\n    <tr>\n      <th>...</th>\n      <td>...</td>\n    </tr>\n    <tr>\n      <th>(opposite, beyond)</th>\n      <td>1</td>\n    </tr>\n    <tr>\n      <th>(in_front_of, opposite, under)</th>\n      <td>1</td>\n    </tr>\n    <tr>\n      <th>(outside_of, next_to, at_the_level_of, near)</th>\n      <td>1</td>\n    </tr>\n    <tr>\n      <th>(in_front_of, next_to, opposite, near)</th>\n      <td>1</td>\n    </tr>\n    <tr>\n      <th>(against, at_the_level_of)</th>\n      <td>1</td>\n    </tr>\n  </tbody>\n</table>\n<p>317 rows × 1 columns</p>\n</div>"
     },
     "metadata": {}
    },
    {
     "output_type": "display_data",
     "data": {
      "text/plain": "                                                   0\nComposite output label distribution in test set     \n(next_to, at_the_level_of, near)                 509\n(behind, opposite, near)                           3\n(on,)                                            135\n(in_front_of, near)                              269\n(near, behind)                                    31\n...                                              ...\n(opposite, beyond)                                 1\n(in_front_of, opposite, under)                     1\n(outside_of, next_to, at_the_level_of, near)       1\n(in_front_of, next_to, opposite, near)             1\n(against, at_the_level_of)                         1\n\n[317 rows x 1 columns]",
      "text/html": "<div>\n<style scoped>\n    .dataframe tbody tr th:only-of-type {\n        vertical-align: middle;\n    }\n\n    .dataframe tbody tr th {\n        vertical-align: top;\n    }\n\n    .dataframe thead th {\n        text-align: right;\n    }\n</style>\n<table border=\"1\" class=\"dataframe\">\n  <thead>\n    <tr style=\"text-align: right;\">\n      <th></th>\n      <th>0</th>\n    </tr>\n    <tr>\n      <th>Composite output label distribution in test set</th>\n      <th></th>\n    </tr>\n  </thead>\n  <tbody>\n    <tr>\n      <th>(next_to, at_the_level_of, near)</th>\n      <td>509</td>\n    </tr>\n    <tr>\n      <th>(behind, opposite, near)</th>\n      <td>3</td>\n    </tr>\n    <tr>\n      <th>(on,)</th>\n      <td>135</td>\n    </tr>\n    <tr>\n      <th>(in_front_of, near)</th>\n      <td>269</td>\n    </tr>\n    <tr>\n      <th>(near, behind)</th>\n      <td>31</td>\n    </tr>\n    <tr>\n      <th>...</th>\n      <td>...</td>\n    </tr>\n    <tr>\n      <th>(opposite, beyond)</th>\n      <td>1</td>\n    </tr>\n    <tr>\n      <th>(in_front_of, opposite, under)</th>\n      <td>1</td>\n    </tr>\n    <tr>\n      <th>(outside_of, next_to, at_the_level_of, near)</th>\n      <td>1</td>\n    </tr>\n    <tr>\n      <th>(in_front_of, next_to, opposite, near)</th>\n      <td>1</td>\n    </tr>\n    <tr>\n      <th>(against, at_the_level_of)</th>\n      <td>1</td>\n    </tr>\n  </tbody>\n</table>\n<p>317 rows × 1 columns</p>\n</div>"
     },
     "metadata": {}
    }
   ],
   "source": [
    "# 1.3. Computing the composite output labels (without flattening like in 1.b) for both datasets.\n",
    "\n",
    "# Same as above, compute the occurances of each composite output label.\n",
    "# Unlike above, we first need to transform each row from an unhashable list to a hashable tuple object.\n",
    "train_out_counts = Counter(map(tuple, train_out_labels))\n",
    "test_out_counts = Counter(map(tuple, test_out_labels))\n",
    "\n",
    "train_out_counts_df = pandas.DataFrame.from_dict(train_out_counts, orient='index')\n",
    "train_out_counts_df.index.name = 'Composite output label distribution in development (train) set'\n",
    "test_out_counts_df = pandas.DataFrame.from_dict(train_out_counts, orient='index')\n",
    "test_out_counts_df.index.name = 'Composite output label distribution in test set'\n",
    "\n",
    "print('Results for 1.c:')\n",
    "display(train_out_counts_df)\n",
    "display(test_out_counts_df)\n",
    "\n",
    "saveAnswer({\n",
    "    'train_out_counts': train_out_counts_df,\n",
    "    'test_out_counts': test_out_counts_df\n",
    "}, '1c')\n"
   ]
  },
  {
   "cell_type": "code",
   "execution_count": null,
   "metadata": {},
   "outputs": [],
   "source": []
  }
 ],
 "metadata": {
  "kernelspec": {
   "display_name": "Python 3",
   "language": "python",
   "name": "python3"
  },
  "language_info": {
   "codemirror_mode": {
    "name": "ipython",
    "version": 3
   },
   "file_extension": ".py",
   "mimetype": "text/x-python",
   "name": "python",
   "nbconvert_exporter": "python",
   "pygments_lexer": "ipython3",
   "version": "3.8.5-final"
  }
 },
 "nbformat": 4,
 "nbformat_minor": 4
}